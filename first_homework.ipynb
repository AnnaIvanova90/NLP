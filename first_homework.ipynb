{
 "cells": [
  {
   "cell_type": "code",
   "execution_count": 1,
   "metadata": {
    "id": "h1dvK7H_qauH"
   },
   "outputs": [],
   "source": [
    "import json\n",
    "\n",
    "import bz2\n",
    "import regex\n",
    "from tqdm import tqdm\n",
    "from scipy import sparse"
   ]
  },
  {
   "cell_type": "code",
   "execution_count": 2,
   "metadata": {
    "id": "_ZsoxOinqauK",
    "outputId": "1b349b33-f266-404a-fa55-4088784d8897"
   },
   "outputs": [
    {
     "name": "stdout",
     "output_type": "stream",
     "text": [
      "Populating the interactive namespace from numpy and matplotlib\n"
     ]
    }
   ],
   "source": [
    "import pandas as pd\n",
    "import numpy as np\n",
    "import nltk\n",
    "import matplotlib.pyplot as plt\n",
    "import seaborn as sns\n",
    "%matplotlib inline\n",
    "%pylab inline"
   ]
  },
  {
   "cell_type": "code",
   "execution_count": 3,
   "metadata": {
    "id": "UNHVsbPnqauL",
    "outputId": "e8d7d7f4-576b-4846-b06a-f3b4a08adb95",
    "scrolled": true
   },
   "outputs": [
    {
     "name": "stderr",
     "output_type": "stream",
     "text": [
      "201030it [04:53, 683.95it/s] \n"
     ]
    }
   ],
   "source": [
    "responses = []\n",
    "with bz2.BZ2File(\"banki_responses.json.bz2\", 'r') as thefile:\n",
    "    for row in tqdm(thefile):\n",
    "        resp = json.loads(row)\n",
    "        if not resp['rating_not_checked'] and (len(resp['text'].split()) > 0):\n",
    "            responses.append(resp)\n",
    "            "
   ]
  },
  {
   "cell_type": "code",
   "execution_count": 4,
   "metadata": {},
   "outputs": [
    {
     "data": {
      "text/html": [
       "<div>\n",
       "<style scoped>\n",
       "    .dataframe tbody tr th:only-of-type {\n",
       "        vertical-align: middle;\n",
       "    }\n",
       "\n",
       "    .dataframe tbody tr th {\n",
       "        vertical-align: top;\n",
       "    }\n",
       "\n",
       "    .dataframe thead th {\n",
       "        text-align: right;\n",
       "    }\n",
       "</style>\n",
       "<table border=\"1\" class=\"dataframe\">\n",
       "  <thead>\n",
       "    <tr style=\"text-align: right;\">\n",
       "      <th></th>\n",
       "      <th>city</th>\n",
       "      <th>rating_not_checked</th>\n",
       "      <th>title</th>\n",
       "      <th>num_comments</th>\n",
       "      <th>bank_license</th>\n",
       "      <th>author</th>\n",
       "      <th>bank_name</th>\n",
       "      <th>datetime</th>\n",
       "      <th>text</th>\n",
       "      <th>rating_grade</th>\n",
       "    </tr>\n",
       "  </thead>\n",
       "  <tbody>\n",
       "    <tr>\n",
       "      <th>0</th>\n",
       "      <td>г. Москва</td>\n",
       "      <td>False</td>\n",
       "      <td>Жалоба</td>\n",
       "      <td>0</td>\n",
       "      <td>лицензия № 2562</td>\n",
       "      <td>uhnov1</td>\n",
       "      <td>Бинбанк</td>\n",
       "      <td>2015-06-08 12:50:54</td>\n",
       "      <td>Добрый день! Я не являюсь клиентом банка и пор...</td>\n",
       "      <td>NaN</td>\n",
       "    </tr>\n",
       "    <tr>\n",
       "      <th>1</th>\n",
       "      <td>г. Новосибирск</td>\n",
       "      <td>False</td>\n",
       "      <td>Не могу пользоваться услугой Сбербанк он-лайн</td>\n",
       "      <td>0</td>\n",
       "      <td>лицензия № 1481</td>\n",
       "      <td>Foryou</td>\n",
       "      <td>Сбербанк России</td>\n",
       "      <td>2015-06-08 11:09:57</td>\n",
       "      <td>Доброго дня! Являюсь держателем зарплатной кар...</td>\n",
       "      <td>NaN</td>\n",
       "    </tr>\n",
       "    <tr>\n",
       "      <th>2</th>\n",
       "      <td>г. Москва</td>\n",
       "      <td>False</td>\n",
       "      <td>Двойное списание за один товар.</td>\n",
       "      <td>1</td>\n",
       "      <td>лицензия № 2562</td>\n",
       "      <td>Vladimir84</td>\n",
       "      <td>Бинбанк</td>\n",
       "      <td>2015-06-05 20:14:28</td>\n",
       "      <td>Здравствуйте!  Дублирую свое заявление от 03.0...</td>\n",
       "      <td>NaN</td>\n",
       "    </tr>\n",
       "  </tbody>\n",
       "</table>\n",
       "</div>"
      ],
      "text/plain": [
       "             city  rating_not_checked  \\\n",
       "0       г. Москва               False   \n",
       "1  г. Новосибирск               False   \n",
       "2       г. Москва               False   \n",
       "\n",
       "                                           title  num_comments  \\\n",
       "0                                         Жалоба             0   \n",
       "1  Не могу пользоваться услугой Сбербанк он-лайн             0   \n",
       "2                Двойное списание за один товар.             1   \n",
       "\n",
       "      bank_license      author        bank_name             datetime  \\\n",
       "0  лицензия № 2562      uhnov1          Бинбанк  2015-06-08 12:50:54   \n",
       "1  лицензия № 1481      Foryou  Сбербанк России  2015-06-08 11:09:57   \n",
       "2  лицензия № 2562  Vladimir84          Бинбанк  2015-06-05 20:14:28   \n",
       "\n",
       "                                                text  rating_grade  \n",
       "0  Добрый день! Я не являюсь клиентом банка и пор...           NaN  \n",
       "1  Доброго дня! Являюсь держателем зарплатной кар...           NaN  \n",
       "2  Здравствуйте!  Дублирую свое заявление от 03.0...           NaN  "
      ]
     },
     "execution_count": 4,
     "metadata": {},
     "output_type": "execute_result"
    }
   ],
   "source": [
    "data = pd.DataFrame(responses)\n",
    "data.head(3)"
   ]
  },
  {
   "cell_type": "markdown",
   "metadata": {},
   "source": [
    "### Часть 1. Анализ текстов"
   ]
  },
  {
   "cell_type": "markdown",
   "metadata": {},
   "source": [
    "1. Посчитайте количество отзывов в разных городах и на разные банки"
   ]
  },
  {
   "cell_type": "code",
   "execution_count": 5,
   "metadata": {},
   "outputs": [
    {
     "data": {
      "text/plain": [
       "г. Москва                           55354\n",
       "г. Санкт-Петербург                  14342\n",
       "г. Екатеринбург                      2337\n",
       "г. Новосибирск                       2300\n",
       "г. Нижний Новгород                   1976\n",
       "                                    ...  \n",
       "г. Анна                                 1\n",
       "г. Петровск-Забайкальский (Чита)        1\n",
       "г. Сосновый бор                         1\n",
       "г. Saratov                              1\n",
       "г. ТУАПСЕ                               1\n",
       "Name: city, Length: 5823, dtype: int64"
      ]
     },
     "execution_count": 5,
     "metadata": {},
     "output_type": "execute_result"
    }
   ],
   "source": [
    "#группируем данные по значению города\n",
    "df = data.groupby(['city']).count()\n",
    "data['city'].value_counts()"
   ]
  },
  {
   "cell_type": "code",
   "execution_count": 6,
   "metadata": {},
   "outputs": [
    {
     "data": {
      "text/plain": [
       "Сбербанк России             26327\n",
       "Альфа-Банк                  10224\n",
       "ВТБ 24                       8185\n",
       "Русский Стандарт             7943\n",
       "Хоум Кредит Банк             7549\n",
       "                            ...  \n",
       "Уралкапиталбанк                 1\n",
       "Тульский Расчетный Центр        1\n",
       "Кредит Экспресс                 1\n",
       "Рублевский                      1\n",
       "Тайм Банк                       1\n",
       "Name: bank_name, Length: 670, dtype: int64"
      ]
     },
     "execution_count": 6,
     "metadata": {},
     "output_type": "execute_result"
    }
   ],
   "source": [
    "#группируем данные по значению банка\n",
    "df1 = data.groupby(['bank_name']).count()\n",
    "data['bank_name'].value_counts()"
   ]
  },
  {
   "cell_type": "markdown",
   "metadata": {},
   "source": [
    "2. Постройте гистограмы длин слов в символах и в словах"
   ]
  },
  {
   "cell_type": "code",
   "execution_count": 7,
   "metadata": {},
   "outputs": [],
   "source": [
    "import nltk\n",
    "\n",
    "from nltk.corpus import stopwords\n",
    "\n",
    "from nltk.tokenize import word_tokenize\n",
    "import pymorphy2\n",
    "from pymorphy2 import MorphAnalyzer"
   ]
  },
  {
   "cell_type": "code",
   "execution_count": 8,
   "metadata": {},
   "outputs": [],
   "source": [
    "#делаем предобратобку текста - оставим только русские слова без знаков препинания и цифр, которые переведем в нижний регистр\n",
    "ru_words = re.compile(\"[А-Яа-я]+\")\n",
    "\n",
    "def words_only(text):\n",
    "    return \" \".join(ru_words.findall(text))\n",
    "    \n",
    "def preprocess(text):\n",
    "    return words_only(text.lower())"
   ]
  },
  {
   "cell_type": "code",
   "execution_count": 9,
   "metadata": {},
   "outputs": [
    {
     "data": {
      "text/plain": [
       "'добрый день я не являюсь клиентом банка и поручителем по кредитному договору а также не являюсь каким либо другим лицом письменно оформившим отношения с банком по поводу урегулирования чьей либо задолженности начиная с марта года начали приходить бесконечные письма из ооо примо коллект на мой адрес город москва уваровский переулок дом квартира с угрозами о возбуждении уголовного дела в отношении гражданина филиппова эдуарда владимировича который уклоняется от уплаты взятых им кредитов договор от года и договор от года со всей ответственностью хочу вас заверить что вышеуказанный гражданин которого вы разыскиваете мне не знаком и никогда в моем адресе не был зарегистрирован каким образом вы не удостоверившись в подлинности его документов оформили на его имя кредитный договор мне по меньшей мере не понятно и почему по вашей милости я должна переживать и бояться за себе и свое имущество письма доставляют мне серьезные неудобства нарушают мои гражданские права а также нарушают закон о защите персональных данных убедительно прошу прекратить посылать на мой адрес письма с угрозами по вопросам к которым я не имею отношения в случае отклонения моей претензии буду вынуждена обратиться с жалобами в другие органы росспотребнадзор центральный банк службу финансового омбудсмена кроме этого будет подано заявление в полицию и заявление в суд возмещение причиненного мне морального вреда надеюсь на скорое решение моего вопроса'"
      ]
     },
     "execution_count": 9,
     "metadata": {},
     "output_type": "execute_result"
    }
   ],
   "source": [
    "data.text = data.text.apply(preprocess)\n",
    "text = data['text'].tolist()\n",
    "text[0]"
   ]
  },
  {
   "cell_type": "code",
   "execution_count": 10,
   "metadata": {},
   "outputs": [
    {
     "data": {
      "text/plain": [
       "35429373"
      ]
     },
     "execution_count": 10,
     "metadata": {},
     "output_type": "execute_result"
    }
   ],
   "source": [
    "#получим корпус всех слов в отзывах\n",
    "corpus =[]\n",
    "for word in text:\n",
    "    corpus += word_tokenize(word)\n",
    "len(corpus)"
   ]
  },
  {
   "cell_type": "code",
   "execution_count": 11,
   "metadata": {},
   "outputs": [
    {
     "data": {
      "text/plain": [
       "<BarContainer object of 42 artists>"
      ]
     },
     "execution_count": 11,
     "metadata": {},
     "output_type": "execute_result"
    },
    {
     "data": {
      "image/png": "[encoded data removed]",
      "text/plain": [
       "<Figure size 576x432 with 1 Axes>"
      ]
     },
     "metadata": {
      "needs_background": "light"
     },
     "output_type": "display_data"
    }
   ],
   "source": [
    "#строим гистограмму длинн всех слов в корпусе\n",
    "from collections import Counter\n",
    "length_counts = Counter(len(word) for word in corpus)\n",
    "\n",
    "from matplotlib.pyplot import figure\n",
    "\n",
    "figure(figsize=(8, 6))\n",
    "plt.bar(length_counts.keys(), length_counts.values(),  color='r') "
   ]
  },
  {
   "cell_type": "markdown",
   "metadata": {},
   "source": [
    "3. Найдите 10 самых частых"
   ]
  },
  {
   "cell_type": "code",
   "execution_count": 12,
   "metadata": {},
   "outputs": [
    {
     "data": {
      "text/plain": [
       "[('в', 1330550),\n",
       " ('и', 1058997),\n",
       " ('не', 855335),\n",
       " ('на', 707935),\n",
       " ('что', 640057),\n",
       " ('я', 577500),\n",
       " ('с', 464037),\n",
       " ('по', 372769),\n",
       " ('мне', 320958),\n",
       " ('банка', 275906)]"
      ]
     },
     "execution_count": 12,
     "metadata": {},
     "output_type": "execute_result"
    }
   ],
   "source": [
    "#найдем самые часто встречающиеся слова в корпусе\n",
    "freq_dict = Counter(corpus)\n",
    "freq_dict.most_common(10)"
   ]
  },
  {
   "cell_type": "code",
   "execution_count": 13,
   "metadata": {},
   "outputs": [],
   "source": [
    "#теперь уберем стоп-слова из отзывов и соберем новый корпус слов\n",
    "mystopwords = stopwords.words('russian')\n",
    "mystopwords.extend(['это', 'наш' , 'тыс', 'млн', 'млрд', 'также',  'т', 'д',\n",
    "    'который','прошлый','сей', 'свой', 'наш', 'мочь', 'такой', 'pуб'])\n",
    "\n",
    "def remove_stopwords(text, mystopwords = mystopwords):\n",
    "    try:\n",
    "        return \" \".join([token for token in text.split() if not token in mystopwords])\n",
    "    except:\n",
    "        return \"\""
   ]
  },
  {
   "cell_type": "code",
   "execution_count": 14,
   "metadata": {},
   "outputs": [
    {
     "data": {
      "text/plain": [
       "'добрый день являюсь клиентом банка поручителем кредитному договору являюсь каким либо другим лицом письменно оформившим отношения банком поводу урегулирования чьей либо задолженности начиная марта года начали приходить бесконечные письма ооо примо коллект адрес город москва уваровский переулок дом квартира угрозами возбуждении уголовного дела отношении гражданина филиппова эдуарда владимировича уклоняется уплаты взятых кредитов договор года договор года всей ответственностью хочу заверить вышеуказанный гражданин которого разыскиваете знаком моем адресе зарегистрирован каким образом удостоверившись подлинности документов оформили имя кредитный договор меньшей мере понятно почему вашей милости должна переживать бояться свое имущество письма доставляют серьезные неудобства нарушают мои гражданские права нарушают закон защите персональных данных убедительно прошу прекратить посылать адрес письма угрозами вопросам которым имею отношения случае отклонения моей претензии буду вынуждена обратиться жалобами другие органы росспотребнадзор центральный банк службу финансового омбудсмена кроме подано заявление полицию заявление суд возмещение причиненного морального вреда надеюсь скорое решение моего вопроса'"
      ]
     },
     "execution_count": 14,
     "metadata": {},
     "output_type": "execute_result"
    }
   ],
   "source": [
    "data.text = data.text.apply(remove_stopwords)\n",
    "text_filtered = data['text'].tolist()\n",
    "text_filtered[0]"
   ]
  },
  {
   "cell_type": "code",
   "execution_count": 15,
   "metadata": {},
   "outputs": [
    {
     "data": {
      "text/plain": [
       "21954351"
      ]
     },
     "execution_count": 15,
     "metadata": {},
     "output_type": "execute_result"
    }
   ],
   "source": [
    "filtered_corpus = []\n",
    "\n",
    "for word in text_filtered:\n",
    "    filtered_corpus += word_tokenize(word)\n",
    "\n",
    "len(filtered_corpus)"
   ]
  },
  {
   "cell_type": "code",
   "execution_count": 16,
   "metadata": {},
   "outputs": [
    {
     "data": {
      "text/plain": [
       "[('банка', 275906),\n",
       " ('банк', 215426),\n",
       " ('деньги', 131201),\n",
       " ('карту', 105829),\n",
       " ('карты', 101821),\n",
       " ('кредит', 81136),\n",
       " ('день', 76552),\n",
       " ('банке', 72169),\n",
       " ('заявление', 70423),\n",
       " ('очень', 66824)]"
      ]
     },
     "execution_count": 16,
     "metadata": {},
     "output_type": "execute_result"
    }
   ],
   "source": [
    "#корпус стал меньше почти на 13.5 млн слов. Найдем новые наиболее используемые слова\n",
    "freq_dict2 = Counter(filtered_corpus)\n",
    "freq_dict2.most_common(10)"
   ]
  },
  {
   "cell_type": "code",
   "execution_count": 17,
   "metadata": {},
   "outputs": [],
   "source": [
    "# найдем леммы всех слов в отзывах \n",
    "def lemmatize(text, pymorphy2_analyzer = MorphAnalyzer()):\n",
    "    try:\n",
    "        return \" \".join([pymorphy2_analyzer.parse(word)[0].normal_form for word in text.split()]) \n",
    "    except:\n",
    "        return \" \"\n"
   ]
  },
  {
   "cell_type": "code",
   "execution_count": 18,
   "metadata": {},
   "outputs": [
    {
     "name": "stderr",
     "output_type": "stream",
     "text": [
      "C:\\ProgramData\\Anaconda3\\lib\\site-packages\\tqdm\\std.py:668: FutureWarning: The Panel class is removed from pandas. Accessing it from the top-level namespace will also be removed in the next version\n",
      "  from pandas import Panel\n",
      "100%|████████████████████████████████████████████████████████████████████████| 153499/153499 [1:41:15<00:00, 25.26it/s]\n"
     ]
    }
   ],
   "source": [
    "tqdm.pandas()\n",
    "\n",
    "data.text = data.text.progress_apply(lemmatize)"
   ]
  },
  {
   "cell_type": "code",
   "execution_count": 19,
   "metadata": {},
   "outputs": [
    {
     "data": {
      "text/plain": [
       "'весь член мой семья протяжение последний год доверять свой деньга банк тинькофф данный момент открыто вклад изменение ставка вклад пребывать шок никак вериться банк поступить постоянный верный клиент обидно потерять деньга который рассчитывать обидно кинуть самый порядочный банк наш мнение оставаться надежда июль решение изменение тариф пересмотреть иначе легко предугадать последовать плавный угасание банк испортить вдрыск репутация бренд тинькофф'"
      ]
     },
     "execution_count": 19,
     "metadata": {},
     "output_type": "execute_result"
    }
   ],
   "source": [
    "data.text[456]"
   ]
  },
  {
   "cell_type": "code",
   "execution_count": 20,
   "metadata": {},
   "outputs": [
    {
     "data": {
      "text/plain": [
       "'весь член семья протяжение последний год доверять деньга банк тинькофф данный момент открыто вклад изменение ставка вклад пребывать шок никак вериться банк поступить постоянный верный клиент обидно потерять деньга рассчитывать обидно кинуть самый порядочный банк мнение оставаться надежда июль решение изменение тариф пересмотреть иначе легко предугадать последовать плавный угасание банк испортить вдрыск репутация бренд тинькофф'"
      ]
     },
     "execution_count": 20,
     "metadata": {},
     "output_type": "execute_result"
    }
   ],
   "source": [
    "#при лемматизации могли появиться новые стоп-слова, которые были пропущены из-за своей формы ранее\n",
    "data.text = data.text.apply(remove_stopwords)\n",
    "text_lemma = data['text'].tolist()\n",
    "text_lemma[456]"
   ]
  },
  {
   "cell_type": "code",
   "execution_count": 22,
   "metadata": {},
   "outputs": [
    {
     "data": {
      "text/plain": [
       "20841522"
      ]
     },
     "execution_count": 22,
     "metadata": {},
     "output_type": "execute_result"
    }
   ],
   "source": [
    "lemma_corpus = []\n",
    "for word in text_lemma:\n",
    "    lemma_corpus += word_tokenize(word)\n",
    "\n",
    "len(lemma_corpus)"
   ]
  },
  {
   "cell_type": "code",
   "execution_count": 23,
   "metadata": {
    "scrolled": true
   },
   "outputs": [
    {
     "data": {
      "text/plain": [
       "[('банк', 668563),\n",
       " ('карта', 334999),\n",
       " ('деньга', 179819),\n",
       " ('день', 173116),\n",
       " ('кредит', 156177),\n",
       " ('отделение', 144050),\n",
       " ('клиент', 136892),\n",
       " ('сотрудник', 134168),\n",
       " ('счёт', 126894),\n",
       " ('сказать', 114440)]"
      ]
     },
     "execution_count": 23,
     "metadata": {},
     "output_type": "execute_result"
    }
   ],
   "source": [
    "#корпус стал меньше еще на 1 млн стоп-слов. Определяем наиболее часто встречающиеся\n",
    "freq_dict3 = Counter(lemma_corpus)\n",
    "freq_dict3.most_common(10)"
   ]
  },
  {
   "cell_type": "code",
   "execution_count": 70,
   "metadata": {},
   "outputs": [],
   "source": [
    "from contextlib import closing"
   ]
  },
  {
   "cell_type": "code",
   "execution_count": 73,
   "metadata": {},
   "outputs": [
    {
     "name": "stderr",
     "output_type": "stream",
     "text": [
      "100%|██████████████████████████████████████████████████████████████████| 20841522/20841522 [2:47:00<00:00, 2079.89it/s]\n"
     ]
    }
   ],
   "source": [
    "#при помощи pymorphy отбираем только существительные и опреляем частоту их использования\n",
    "nouns_corpus = []\n",
    "pymorphy2_analyzer = MorphAnalyzer()\n",
    "with closing(tqdm(total=len(lemma_corpus))) as pbar:\n",
    "    for i in range (len(lemma_corpus)):\n",
    "        lemma = pymorphy2_analyzer.parse(lemma_corpus[i])\n",
    "        if lemma[0].tag.POS == 'NOUN':\n",
    "            nouns_corpus.append(lemma[0].normal_form)\n",
    "        pbar.update(1)"
   ]
  },
  {
   "cell_type": "code",
   "execution_count": 74,
   "metadata": {},
   "outputs": [
    {
     "data": {
      "text/plain": [
       "[('банк', 668589),\n",
       " ('карта', 335000),\n",
       " ('деньга', 179819),\n",
       " ('день', 173116),\n",
       " ('кредит', 156177),\n",
       " ('отделение', 144050),\n",
       " ('клиент', 136892),\n",
       " ('сотрудник', 134168),\n",
       " ('счёт', 126894),\n",
       " ('сумма', 111232)]"
      ]
     },
     "execution_count": 74,
     "metadata": {},
     "output_type": "execute_result"
    }
   ],
   "source": [
    "freq_dict4 = Counter(nouns_corpus)\n",
    "freq_dict4.most_common(10)"
   ]
  },
  {
   "cell_type": "markdown",
   "metadata": {},
   "source": [
    "Кривая Ципфа"
   ]
  },
  {
   "cell_type": "code",
   "execution_count": 27,
   "metadata": {},
   "outputs": [
    {
     "data": {
      "text/plain": [
       "<Figure size 720x432 with 0 Axes>"
      ]
     },
     "metadata": {},
     "output_type": "display_data"
    },
    {
     "data": {
      "image/png": "[encoded data removed]",
      "text/plain": [
       "<Figure size 432x288 with 1 Axes>"
      ]
     },
     "metadata": {
      "needs_background": "light"
     },
     "output_type": "display_data"
    }
   ],
   "source": [
    "#строим график зависимости ранга слова в корпусе от его частоты использования. Для этого используем корпус лемм\n",
    "\n",
    "import matplotlib.pyplot as plt\n",
    "%matplotlib inline\n",
    "\n",
    "\n",
    "freqs = list(freq_dict3.values())\n",
    "freqs = sorted(freqs, reverse = True)\n",
    "\n",
    "fig, ax = plt.subplots()\n",
    "ax.plot(freqs[:300], range(300))\n",
    "plt.show()"
   ]
  },
  {
   "cell_type": "code",
   "execution_count": null,
   "metadata": {},
   "outputs": [],
   "source": []
  },
  {
   "cell_type": "markdown",
   "metadata": {},
   "source": [
    "Закон Хипса"
   ]
  },
  {
   "cell_type": "code",
   "execution_count": 28,
   "metadata": {},
   "outputs": [
    {
     "name": "stderr",
     "output_type": "stream",
     "text": [
      "100%|█████████████████████████████████████████████████████████████████████████| 153499/153499 [07:42<00:00, 331.89it/s]\n"
     ]
    }
   ],
   "source": [
    "from tqdm import tqdm\n",
    "\n",
    "cnt = Counter()\n",
    "n_words = []\n",
    "n_tokens = []\n",
    "tokens = []\n",
    "for index, row in tqdm(data.iterrows(), total = len(data)):\n",
    "    tokens = word_tokenize(row['text'])\n",
    "    cnt.update(tokens)\n",
    "    n_words.append(len(cnt))\n",
    "    n_tokens.append(sum(cnt.values()))"
   ]
  },
  {
   "cell_type": "code",
   "execution_count": 180,
   "metadata": {},
   "outputs": [
    {
     "ename": "TypeError",
     "evalue": "float() argument must be a string or a number, not 'dict_values'",
     "output_type": "error",
     "traceback": [
      "\u001b[1;31m---------------------------------------------------------------------------\u001b[0m",
      "\u001b[1;31mTypeError\u001b[0m                                 Traceback (most recent call last)",
      "\u001b[1;32m<ipython-input-180-2d79ea5a1d87>\u001b[0m in \u001b[0;36m<module>\u001b[1;34m\u001b[0m\n\u001b[0;32m      1\u001b[0m \u001b[0mfig\u001b[0m\u001b[1;33m,\u001b[0m \u001b[0max\u001b[0m \u001b[1;33m=\u001b[0m \u001b[0mplt\u001b[0m\u001b[1;33m.\u001b[0m\u001b[0msubplots\u001b[0m\u001b[1;33m(\u001b[0m\u001b[1;33m)\u001b[0m\u001b[1;33m\u001b[0m\u001b[1;33m\u001b[0m\u001b[0m\n\u001b[1;32m----> 2\u001b[1;33m \u001b[0max\u001b[0m\u001b[1;33m.\u001b[0m\u001b[0mplot\u001b[0m\u001b[1;33m(\u001b[0m\u001b[0mn_tokens\u001b[0m\u001b[1;33m,\u001b[0m \u001b[0mn_words\u001b[0m\u001b[1;33m)\u001b[0m\u001b[1;33m\u001b[0m\u001b[1;33m\u001b[0m\u001b[0m\n\u001b[0m\u001b[0;32m      3\u001b[0m \u001b[0mplt\u001b[0m\u001b[1;33m.\u001b[0m\u001b[0mshow\u001b[0m\u001b[1;33m(\u001b[0m\u001b[1;33m)\u001b[0m\u001b[1;33m\u001b[0m\u001b[1;33m\u001b[0m\u001b[0m\n",
      "\u001b[1;32mC:\\ProgramData\\Anaconda3\\lib\\site-packages\\matplotlib\\axes\\_axes.py\u001b[0m in \u001b[0;36mplot\u001b[1;34m(self, scalex, scaley, data, *args, **kwargs)\u001b[0m\n\u001b[0;32m   1647\u001b[0m         \u001b[0mlines\u001b[0m \u001b[1;33m=\u001b[0m \u001b[1;33m[\u001b[0m\u001b[1;33m*\u001b[0m\u001b[0mself\u001b[0m\u001b[1;33m.\u001b[0m\u001b[0m_get_lines\u001b[0m\u001b[1;33m(\u001b[0m\u001b[1;33m*\u001b[0m\u001b[0margs\u001b[0m\u001b[1;33m,\u001b[0m \u001b[0mdata\u001b[0m\u001b[1;33m=\u001b[0m\u001b[0mdata\u001b[0m\u001b[1;33m,\u001b[0m \u001b[1;33m**\u001b[0m\u001b[0mkwargs\u001b[0m\u001b[1;33m)\u001b[0m\u001b[1;33m]\u001b[0m\u001b[1;33m\u001b[0m\u001b[1;33m\u001b[0m\u001b[0m\n\u001b[0;32m   1648\u001b[0m         \u001b[1;32mfor\u001b[0m \u001b[0mline\u001b[0m \u001b[1;32min\u001b[0m \u001b[0mlines\u001b[0m\u001b[1;33m:\u001b[0m\u001b[1;33m\u001b[0m\u001b[1;33m\u001b[0m\u001b[0m\n\u001b[1;32m-> 1649\u001b[1;33m             \u001b[0mself\u001b[0m\u001b[1;33m.\u001b[0m\u001b[0madd_line\u001b[0m\u001b[1;33m(\u001b[0m\u001b[0mline\u001b[0m\u001b[1;33m)\u001b[0m\u001b[1;33m\u001b[0m\u001b[1;33m\u001b[0m\u001b[0m\n\u001b[0m\u001b[0;32m   1650\u001b[0m         \u001b[0mself\u001b[0m\u001b[1;33m.\u001b[0m\u001b[0m_request_autoscale_view\u001b[0m\u001b[1;33m(\u001b[0m\u001b[0mscalex\u001b[0m\u001b[1;33m=\u001b[0m\u001b[0mscalex\u001b[0m\u001b[1;33m,\u001b[0m \u001b[0mscaley\u001b[0m\u001b[1;33m=\u001b[0m\u001b[0mscaley\u001b[0m\u001b[1;33m)\u001b[0m\u001b[1;33m\u001b[0m\u001b[1;33m\u001b[0m\u001b[0m\n\u001b[0;32m   1651\u001b[0m         \u001b[1;32mreturn\u001b[0m \u001b[0mlines\u001b[0m\u001b[1;33m\u001b[0m\u001b[1;33m\u001b[0m\u001b[0m\n",
      "\u001b[1;32mC:\\ProgramData\\Anaconda3\\lib\\site-packages\\matplotlib\\axes\\_base.py\u001b[0m in \u001b[0;36madd_line\u001b[1;34m(self, line)\u001b[0m\n\u001b[0;32m   1848\u001b[0m             \u001b[0mline\u001b[0m\u001b[1;33m.\u001b[0m\u001b[0mset_clip_path\u001b[0m\u001b[1;33m(\u001b[0m\u001b[0mself\u001b[0m\u001b[1;33m.\u001b[0m\u001b[0mpatch\u001b[0m\u001b[1;33m)\u001b[0m\u001b[1;33m\u001b[0m\u001b[1;33m\u001b[0m\u001b[0m\n\u001b[0;32m   1849\u001b[0m \u001b[1;33m\u001b[0m\u001b[0m\n\u001b[1;32m-> 1850\u001b[1;33m         \u001b[0mself\u001b[0m\u001b[1;33m.\u001b[0m\u001b[0m_update_line_limits\u001b[0m\u001b[1;33m(\u001b[0m\u001b[0mline\u001b[0m\u001b[1;33m)\u001b[0m\u001b[1;33m\u001b[0m\u001b[1;33m\u001b[0m\u001b[0m\n\u001b[0m\u001b[0;32m   1851\u001b[0m         \u001b[1;32mif\u001b[0m \u001b[1;32mnot\u001b[0m \u001b[0mline\u001b[0m\u001b[1;33m.\u001b[0m\u001b[0mget_label\u001b[0m\u001b[1;33m(\u001b[0m\u001b[1;33m)\u001b[0m\u001b[1;33m:\u001b[0m\u001b[1;33m\u001b[0m\u001b[1;33m\u001b[0m\u001b[0m\n\u001b[0;32m   1852\u001b[0m             \u001b[0mline\u001b[0m\u001b[1;33m.\u001b[0m\u001b[0mset_label\u001b[0m\u001b[1;33m(\u001b[0m\u001b[1;34m'_line%d'\u001b[0m \u001b[1;33m%\u001b[0m \u001b[0mlen\u001b[0m\u001b[1;33m(\u001b[0m\u001b[0mself\u001b[0m\u001b[1;33m.\u001b[0m\u001b[0mlines\u001b[0m\u001b[1;33m)\u001b[0m\u001b[1;33m)\u001b[0m\u001b[1;33m\u001b[0m\u001b[1;33m\u001b[0m\u001b[0m\n",
      "\u001b[1;32mC:\\ProgramData\\Anaconda3\\lib\\site-packages\\matplotlib\\axes\\_base.py\u001b[0m in \u001b[0;36m_update_line_limits\u001b[1;34m(self, line)\u001b[0m\n\u001b[0;32m   1870\u001b[0m         \u001b[0mFigures\u001b[0m \u001b[0mout\u001b[0m \u001b[0mthe\u001b[0m \u001b[0mdata\u001b[0m \u001b[0mlimit\u001b[0m \u001b[0mof\u001b[0m \u001b[0mthe\u001b[0m \u001b[0mgiven\u001b[0m \u001b[0mline\u001b[0m\u001b[1;33m,\u001b[0m \u001b[0mupdating\u001b[0m \u001b[0mself\u001b[0m\u001b[1;33m.\u001b[0m\u001b[0mdataLim\u001b[0m\u001b[1;33m.\u001b[0m\u001b[1;33m\u001b[0m\u001b[1;33m\u001b[0m\u001b[0m\n\u001b[0;32m   1871\u001b[0m         \"\"\"\n\u001b[1;32m-> 1872\u001b[1;33m         \u001b[0mpath\u001b[0m \u001b[1;33m=\u001b[0m \u001b[0mline\u001b[0m\u001b[1;33m.\u001b[0m\u001b[0mget_path\u001b[0m\u001b[1;33m(\u001b[0m\u001b[1;33m)\u001b[0m\u001b[1;33m\u001b[0m\u001b[1;33m\u001b[0m\u001b[0m\n\u001b[0m\u001b[0;32m   1873\u001b[0m         \u001b[1;32mif\u001b[0m \u001b[0mpath\u001b[0m\u001b[1;33m.\u001b[0m\u001b[0mvertices\u001b[0m\u001b[1;33m.\u001b[0m\u001b[0msize\u001b[0m \u001b[1;33m==\u001b[0m \u001b[1;36m0\u001b[0m\u001b[1;33m:\u001b[0m\u001b[1;33m\u001b[0m\u001b[1;33m\u001b[0m\u001b[0m\n\u001b[0;32m   1874\u001b[0m             \u001b[1;32mreturn\u001b[0m\u001b[1;33m\u001b[0m\u001b[1;33m\u001b[0m\u001b[0m\n",
      "\u001b[1;32mC:\\ProgramData\\Anaconda3\\lib\\site-packages\\matplotlib\\lines.py\u001b[0m in \u001b[0;36mget_path\u001b[1;34m(self)\u001b[0m\n\u001b[0;32m   1025\u001b[0m         \"\"\"\n\u001b[0;32m   1026\u001b[0m         \u001b[1;32mif\u001b[0m \u001b[0mself\u001b[0m\u001b[1;33m.\u001b[0m\u001b[0m_invalidy\u001b[0m \u001b[1;32mor\u001b[0m \u001b[0mself\u001b[0m\u001b[1;33m.\u001b[0m\u001b[0m_invalidx\u001b[0m\u001b[1;33m:\u001b[0m\u001b[1;33m\u001b[0m\u001b[1;33m\u001b[0m\u001b[0m\n\u001b[1;32m-> 1027\u001b[1;33m             \u001b[0mself\u001b[0m\u001b[1;33m.\u001b[0m\u001b[0mrecache\u001b[0m\u001b[1;33m(\u001b[0m\u001b[1;33m)\u001b[0m\u001b[1;33m\u001b[0m\u001b[1;33m\u001b[0m\u001b[0m\n\u001b[0m\u001b[0;32m   1028\u001b[0m         \u001b[1;32mreturn\u001b[0m \u001b[0mself\u001b[0m\u001b[1;33m.\u001b[0m\u001b[0m_path\u001b[0m\u001b[1;33m\u001b[0m\u001b[1;33m\u001b[0m\u001b[0m\n\u001b[0;32m   1029\u001b[0m \u001b[1;33m\u001b[0m\u001b[0m\n",
      "\u001b[1;32mC:\\ProgramData\\Anaconda3\\lib\\site-packages\\matplotlib\\lines.py\u001b[0m in \u001b[0;36mrecache\u001b[1;34m(self, always)\u001b[0m\n\u001b[0;32m    668\u001b[0m         \u001b[1;32mif\u001b[0m \u001b[0malways\u001b[0m \u001b[1;32mor\u001b[0m \u001b[0mself\u001b[0m\u001b[1;33m.\u001b[0m\u001b[0m_invalidx\u001b[0m\u001b[1;33m:\u001b[0m\u001b[1;33m\u001b[0m\u001b[1;33m\u001b[0m\u001b[0m\n\u001b[0;32m    669\u001b[0m             \u001b[0mxconv\u001b[0m \u001b[1;33m=\u001b[0m \u001b[0mself\u001b[0m\u001b[1;33m.\u001b[0m\u001b[0mconvert_xunits\u001b[0m\u001b[1;33m(\u001b[0m\u001b[0mself\u001b[0m\u001b[1;33m.\u001b[0m\u001b[0m_xorig\u001b[0m\u001b[1;33m)\u001b[0m\u001b[1;33m\u001b[0m\u001b[1;33m\u001b[0m\u001b[0m\n\u001b[1;32m--> 670\u001b[1;33m             \u001b[0mx\u001b[0m \u001b[1;33m=\u001b[0m \u001b[0m_to_unmasked_float_array\u001b[0m\u001b[1;33m(\u001b[0m\u001b[0mxconv\u001b[0m\u001b[1;33m)\u001b[0m\u001b[1;33m.\u001b[0m\u001b[0mravel\u001b[0m\u001b[1;33m(\u001b[0m\u001b[1;33m)\u001b[0m\u001b[1;33m\u001b[0m\u001b[1;33m\u001b[0m\u001b[0m\n\u001b[0m\u001b[0;32m    671\u001b[0m         \u001b[1;32melse\u001b[0m\u001b[1;33m:\u001b[0m\u001b[1;33m\u001b[0m\u001b[1;33m\u001b[0m\u001b[0m\n\u001b[0;32m    672\u001b[0m             \u001b[0mx\u001b[0m \u001b[1;33m=\u001b[0m \u001b[0mself\u001b[0m\u001b[1;33m.\u001b[0m\u001b[0m_x\u001b[0m\u001b[1;33m\u001b[0m\u001b[1;33m\u001b[0m\u001b[0m\n",
      "\u001b[1;32mC:\\ProgramData\\Anaconda3\\lib\\site-packages\\matplotlib\\cbook\\__init__.py\u001b[0m in \u001b[0;36m_to_unmasked_float_array\u001b[1;34m(x)\u001b[0m\n\u001b[0;32m   1315\u001b[0m         \u001b[1;32mreturn\u001b[0m \u001b[0mnp\u001b[0m\u001b[1;33m.\u001b[0m\u001b[0mma\u001b[0m\u001b[1;33m.\u001b[0m\u001b[0masarray\u001b[0m\u001b[1;33m(\u001b[0m\u001b[0mx\u001b[0m\u001b[1;33m,\u001b[0m \u001b[0mfloat\u001b[0m\u001b[1;33m)\u001b[0m\u001b[1;33m.\u001b[0m\u001b[0mfilled\u001b[0m\u001b[1;33m(\u001b[0m\u001b[0mnp\u001b[0m\u001b[1;33m.\u001b[0m\u001b[0mnan\u001b[0m\u001b[1;33m)\u001b[0m\u001b[1;33m\u001b[0m\u001b[1;33m\u001b[0m\u001b[0m\n\u001b[0;32m   1316\u001b[0m     \u001b[1;32melse\u001b[0m\u001b[1;33m:\u001b[0m\u001b[1;33m\u001b[0m\u001b[1;33m\u001b[0m\u001b[0m\n\u001b[1;32m-> 1317\u001b[1;33m         \u001b[1;32mreturn\u001b[0m \u001b[0mnp\u001b[0m\u001b[1;33m.\u001b[0m\u001b[0masarray\u001b[0m\u001b[1;33m(\u001b[0m\u001b[0mx\u001b[0m\u001b[1;33m,\u001b[0m \u001b[0mfloat\u001b[0m\u001b[1;33m)\u001b[0m\u001b[1;33m\u001b[0m\u001b[1;33m\u001b[0m\u001b[0m\n\u001b[0m\u001b[0;32m   1318\u001b[0m \u001b[1;33m\u001b[0m\u001b[0m\n\u001b[0;32m   1319\u001b[0m \u001b[1;33m\u001b[0m\u001b[0m\n",
      "\u001b[1;31mTypeError\u001b[0m: float() argument must be a string or a number, not 'dict_values'"
     ]
    },
    {
     "data": {
      "image/png": "[encoded data removed]",
      "text/plain": [
       "<Figure size 432x288 with 1 Axes>"
      ]
     },
     "metadata": {
      "needs_background": "light"
     },
     "output_type": "display_data"
    }
   ],
   "source": [
    "figure(figsize=(8, 6))\n",
    "fig, ax = plt.subplots()\n",
    "ax.plot(n_tokens, n_words)\n",
    "plt.show()"
   ]
  },
  {
   "cell_type": "markdown",
   "metadata": {},
   "source": [
    "Ответьте на следующие вопросы:\n",
    "какое слово встречается чаще, \"сотрудник\" или \"клиент\"?\n",
    "сколько раз встречается слова \"мошенничество\" и \"доверие\"?"
   ]
  },
  {
   "cell_type": "code",
   "execution_count": 38,
   "metadata": {},
   "outputs": [
    {
     "name": "stdout",
     "output_type": "stream",
     "text": [
      "слово клиент встречается чаще\n"
     ]
    }
   ],
   "source": [
    "if dict(freq_dict3)['сотрудник'] > dict(freq_dict3)['клиент']: print ('слово сотрудник встречается чаще')\n",
    "else: print('слово клиент встречается чаще')"
   ]
  },
  {
   "cell_type": "code",
   "execution_count": 39,
   "metadata": {},
   "outputs": [
    {
     "name": "stdout",
     "output_type": "stream",
     "text": [
      "слово мошенничество встретилось 3244 раз\n",
      "слово доверие встретилось 2108 раз\n"
     ]
    }
   ],
   "source": [
    "print(f\"слово мошенничество встретилось {dict(freq_dict3)['мошенничество']} раз\")\n",
    "print(f\"слово доверие встретилось {dict(freq_dict3)['доверие']} раз\")"
   ]
  },
  {
   "cell_type": "code",
   "execution_count": null,
   "metadata": {},
   "outputs": [],
   "source": []
  },
  {
   "cell_type": "markdown",
   "metadata": {},
   "source": [
    "В поле \"rating_grade\" записана оценка отзыва по шкале от 1 до 5. Используйте меру $tf-idf$, для того, чтобы найти ключевые слова и биграмы для положительных отзывов (с оценкой 5) и отрицательных отзывов (с оценкой 1)"
   ]
  },
  {
   "cell_type": "code",
   "execution_count": 40,
   "metadata": {},
   "outputs": [],
   "source": [
    "from sklearn.feature_extraction.text import TfidfVectorizer"
   ]
  },
  {
   "cell_type": "code",
   "execution_count": 36,
   "metadata": {},
   "outputs": [
    {
     "name": "stdout",
     "output_type": "stream",
     "text": [
      "<class 'pandas.core.frame.DataFrame'>\n",
      "Int64Index: 47387 entries, 19 to 153497\n",
      "Data columns (total 10 columns):\n",
      " #   Column              Non-Null Count  Dtype  \n",
      "---  ------              --------------  -----  \n",
      " 0   city                39855 non-null  object \n",
      " 1   rating_not_checked  47387 non-null  bool   \n",
      " 2   title               47387 non-null  object \n",
      " 3   num_comments        47387 non-null  int64  \n",
      " 4   bank_license        47387 non-null  object \n",
      " 5   author              47382 non-null  object \n",
      " 6   bank_name           47387 non-null  object \n",
      " 7   datetime            47387 non-null  object \n",
      " 8   text                47387 non-null  object \n",
      " 9   rating_grade        47387 non-null  float64\n",
      "dtypes: bool(1), float64(1), int64(1), object(7)\n",
      "memory usage: 3.7+ MB\n"
     ]
    }
   ],
   "source": [
    "data_1 = data[data['rating_grade'] == 1]\n",
    "data_1.info()"
   ]
  },
  {
   "cell_type": "code",
   "execution_count": 37,
   "metadata": {},
   "outputs": [
    {
     "data": {
      "text/plain": [
       "'открыть вклад счёт плюс зарплатный карта рубль сегодня прийти указанный отделение цель пополнить долларовый сч дать операционист паспорт зарплатный карта окошко написать приготовить карта подтверждение операция подобный потребовать сказать нужно положить деньга долларовый счёт операционист вс взять делать крутило вертел вставить карта терминал сказать ввести пин век л пин получить ответ чек написать доллар внести сч карта рубль вопрос банк риторический понимать нужно сознательно проводить операция угол маленький квартал курс ма валюта выше рубль действительно хотеть совершить хитрый операция выгодный сделать шаг заработать около рубль просто внести рубль сч карта банкомат далее долгий около час выяснение отношение операционист видимо начальник попытка отменить первый транзакция п сойтись компенсировать курсовой разница зачисление доллар рубла вую карта руб доллар слово операционист курс покупка валюта руб доллар купить наличный доллар положить долларовый сч попросить указать чек курс пройти первый транзакция доллар рубла выя сч поставить печать доллар поступить сч час курс тадааам комиссия банк операционист знать комиссия курс проведение операция вывод итог потерять час время нерв фига рубль вывод клиент требовать распечатка операция собираться провести операционист проведение высокотехнологичный подтверждение операция ом обычный плата жка избежать вопрос банк риторический сбер брать работа компетентный сотрудник способный думать хотя слушать просить сделать'"
      ]
     },
     "execution_count": 37,
     "metadata": {},
     "output_type": "execute_result"
    }
   ],
   "source": [
    "text_1 = data_1['text'].tolist()\n",
    "text_1[0]"
   ]
  },
  {
   "cell_type": "code",
   "execution_count": 47,
   "metadata": {},
   "outputs": [],
   "source": [
    "full_corpus_1 = []\n",
    "\n",
    "for i in range (0, len(text_1)):\n",
    "    corpus = word_tokenize(text_1[i])\n",
    "    full_corpus_1 += corpus"
   ]
  },
  {
   "cell_type": "code",
   "execution_count": 54,
   "metadata": {},
   "outputs": [
    {
     "data": {
      "text/plain": [
       "['аа',\n",
       " 'ааа',\n",
       " 'аааа',\n",
       " 'ааааа',\n",
       " 'аааааа',\n",
       " 'ааааааа',\n",
       " 'аааааааааа',\n",
       " 'аааааааааааа',\n",
       " 'аааааааааааааааааааааааааааааааааа',\n",
       " 'аааабсурд',\n",
       " 'аальфабанк',\n",
       " 'ааяна',\n",
       " 'аба',\n",
       " 'абагян',\n",
       " 'абакан',\n",
       " 'абаканский',\n",
       " 'абакум',\n",
       " 'абалдеть',\n",
       " 'абалмасов',\n",
       " 'абанк',\n",
       " 'абанский',\n",
       " 'абб',\n",
       " 'аббревиатура',\n",
       " 'абвг',\n",
       " 'абд',\n",
       " 'абдр',\n",
       " 'абдуллин',\n",
       " 'абдулнасыров',\n",
       " 'абдулович',\n",
       " 'абдуманипович',\n",
       " 'абдурахман',\n",
       " 'абдурахманов',\n",
       " 'абельмановский',\n",
       " 'абелёвский',\n",
       " 'абз',\n",
       " 'абзац',\n",
       " 'абикс',\n",
       " 'абинск',\n",
       " 'абинский',\n",
       " 'абитуриент',\n",
       " 'абк',\n",
       " 'аблаев',\n",
       " 'абн',\n",
       " 'абон',\n",
       " 'абонемент',\n",
       " 'абоненка',\n",
       " 'абонент',\n",
       " 'абонентка',\n",
       " 'абонентный',\n",
       " 'абонентский',\n",
       " 'абонплат',\n",
       " 'абонплата',\n",
       " 'абориген',\n",
       " 'аборигент',\n",
       " 'абослютый',\n",
       " 'абот',\n",
       " 'абр',\n",
       " 'абра',\n",
       " 'абракадабра',\n",
       " 'абрам',\n",
       " 'абрамкин',\n",
       " 'абрамов',\n",
       " 'абрамович',\n",
       " 'абрамцевский',\n",
       " 'абрамян',\n",
       " 'абрат',\n",
       " 'абратский',\n",
       " 'абревиатура',\n",
       " 'абрик',\n",
       " 'абрикосовый',\n",
       " 'аброкадабра',\n",
       " 'абросим',\n",
       " 'абс',\n",
       " 'абсалют',\n",
       " 'абск',\n",
       " 'абсолют',\n",
       " 'абсолютбанк',\n",
       " 'абсолютно',\n",
       " 'абсолютный',\n",
       " 'абсорбировать',\n",
       " 'абстрактно',\n",
       " 'абстрактность',\n",
       " 'абстрактный',\n",
       " 'абстракция',\n",
       " 'абсурд',\n",
       " 'абсурдно',\n",
       " 'абсурдность',\n",
       " 'абсурдный',\n",
       " 'абхазия',\n",
       " 'абхазский',\n",
       " 'абырвалга',\n",
       " 'абэ',\n",
       " 'абяновый',\n",
       " 'ава',\n",
       " 'авагарда',\n",
       " 'авакин',\n",
       " 'аваль',\n",
       " 'аванагарда',\n",
       " 'авангард',\n",
       " 'авангардный',\n",
       " 'авангардов',\n",
       " 'авангардовский',\n",
       " 'авангардовый',\n",
       " 'авангахд',\n",
       " 'аванград',\n",
       " 'аванрагд',\n",
       " 'аванс',\n",
       " 'авансирование',\n",
       " 'авансовый',\n",
       " 'авансом',\n",
       " 'авантаж',\n",
       " 'авантайм',\n",
       " 'авантюра',\n",
       " 'авантюрный',\n",
       " 'аварийка',\n",
       " 'аварийный',\n",
       " 'авария',\n",
       " 'аватар',\n",
       " 'аватарка',\n",
       " 'аваторизация',\n",
       " 'авб',\n",
       " 'авг',\n",
       " 'авгиев',\n",
       " 'август',\n",
       " 'августовский',\n",
       " 'авд',\n",
       " 'авда',\n",
       " 'авдеев',\n",
       " 'авеловский',\n",
       " 'авена',\n",
       " 'авенкод',\n",
       " 'авено',\n",
       " 'авентадор',\n",
       " 'авентур',\n",
       " 'авеню',\n",
       " 'авео',\n",
       " 'аверкин',\n",
       " 'аверс',\n",
       " 'аверченко',\n",
       " 'аверьянов',\n",
       " 'аверьянович',\n",
       " 'авет',\n",
       " 'авиа',\n",
       " 'авиабилет',\n",
       " 'авиагородок',\n",
       " 'авиакампания',\n",
       " 'авиакарта',\n",
       " 'авиакомпания',\n",
       " 'авиаконструктор',\n",
       " 'авиалайнер',\n",
       " 'авиалиниия',\n",
       " 'авиалиния',\n",
       " 'авиаматорный',\n",
       " 'авиамомторный',\n",
       " 'авиамоторный',\n",
       " 'авиамоторона',\n",
       " 'авиамотрный',\n",
       " 'авиаотряд',\n",
       " 'авиаперевозчик',\n",
       " 'авиаперелёт',\n",
       " 'авиар',\n",
       " 'авиарежим',\n",
       " 'авиасити',\n",
       " 'авиастроитель',\n",
       " 'авиатор',\n",
       " 'авиатурне',\n",
       " 'авиационный',\n",
       " 'авиация',\n",
       " 'авив',\n",
       " 'авиел',\n",
       " 'авилон',\n",
       " 'авис',\n",
       " 'авитаминоз',\n",
       " 'авить',\n",
       " 'авк',\n",
       " 'авн',\n",
       " 'авон',\n",
       " 'авось',\n",
       " 'авоська',\n",
       " 'авося',\n",
       " 'авр',\n",
       " 'аврал',\n",
       " 'авральный',\n",
       " 'авраменко',\n",
       " 'аврелий',\n",
       " 'аврор',\n",
       " 'аврора',\n",
       " 'авс',\n",
       " 'австр',\n",
       " 'австралийский',\n",
       " 'австралия',\n",
       " 'австрийски',\n",
       " 'австрийский',\n",
       " 'австрия',\n",
       " 'австро',\n",
       " 'авт',\n",
       " 'автандил',\n",
       " 'автандилович',\n",
       " 'авткасса',\n",
       " 'авткредит',\n",
       " 'авто',\n",
       " 'автобанк',\n",
       " 'автобиль',\n",
       " 'автобиография',\n",
       " 'автоблокировка',\n",
       " 'автобот',\n",
       " 'автобум',\n",
       " 'автобус',\n",
       " 'автобусный',\n",
       " 'автовазбанк',\n",
       " 'автовладелец',\n",
       " 'автовокзал',\n",
       " 'автовызов',\n",
       " 'автовый',\n",
       " 'автогашение',\n",
       " 'автогемесом',\n",
       " 'автогеморройка',\n",
       " 'автогермес',\n",
       " 'автоград',\n",
       " 'автоградсевер',\n",
       " 'автограф',\n",
       " 'автодайлера',\n",
       " 'автодезиноформатор',\n",
       " 'автодилер',\n",
       " 'автодиллер',\n",
       " 'автодозвон',\n",
       " 'автодозвонка',\n",
       " 'автодозвонный',\n",
       " 'автодозвонщик',\n",
       " 'автодозонщик',\n",
       " 'автодорога',\n",
       " 'автодорожный',\n",
       " 'автозавод',\n",
       " 'автозаводец',\n",
       " 'автозаводка',\n",
       " 'автозаводкий',\n",
       " 'автозаводковать',\n",
       " 'автозаводский',\n",
       " 'автозаводсткай',\n",
       " 'автозавосдскай',\n",
       " 'автозалог',\n",
       " 'автозаполнение',\n",
       " 'автозаправка',\n",
       " 'автозаправочный',\n",
       " 'автозапуск',\n",
       " 'автозапчасть',\n",
       " 'автозаёмщик',\n",
       " 'автозвонилка',\n",
       " 'автозвонок',\n",
       " 'автоимпорт',\n",
       " 'автоимформатор',\n",
       " 'автоинфоматор',\n",
       " 'автоинформатор',\n",
       " 'автоинформера',\n",
       " 'автоинформирвать',\n",
       " 'автоинформирование',\n",
       " 'автоинформировать',\n",
       " 'автокарта',\n",
       " 'автокаска',\n",
       " 'автокаско',\n",
       " 'автокасса',\n",
       " 'автокатастрофа',\n",
       " 'автокей',\n",
       " 'автокласс',\n",
       " 'автоклуб',\n",
       " 'автоконвертация',\n",
       " 'автоконтроль',\n",
       " 'автокопилка',\n",
       " 'автокред',\n",
       " 'автокреда',\n",
       " 'автокредами',\n",
       " 'автокредать',\n",
       " 'автокредит',\n",
       " 'автокредитный',\n",
       " 'автокредитование',\n",
       " 'автокредитоваться',\n",
       " 'автокредитпродукт',\n",
       " 'автокретит',\n",
       " 'автокэш',\n",
       " 'автолидер',\n",
       " 'автологин',\n",
       " 'автолюбитель',\n",
       " 'автом',\n",
       " 'автомаг',\n",
       " 'автомагазин',\n",
       " 'автомагнитола',\n",
       " 'автомасло',\n",
       " 'автомастерская',\n",
       " 'автомат',\n",
       " 'автоматизатор',\n",
       " 'автоматизация',\n",
       " 'автоматизированность',\n",
       " 'автоматизированный',\n",
       " 'автоматизированый',\n",
       " 'автоматизировать',\n",
       " 'автоматизироваться',\n",
       " 'автоматизм',\n",
       " 'автоматика',\n",
       " 'автоматич',\n",
       " 'автоматиче',\n",
       " 'автоматичеси',\n",
       " 'автоматически',\n",
       " 'автоматический',\n",
       " 'автоматчёска',\n",
       " 'автомашина',\n",
       " 'автоменеджер',\n",
       " 'автоменю',\n",
       " 'автомир',\n",
       " 'автомобель',\n",
       " 'автомобилист',\n",
       " 'автомобиль',\n",
       " 'автомобильный',\n",
       " 'автомобильчик',\n",
       " 'автомойка',\n",
       " 'автомотический',\n",
       " 'автонабор',\n",
       " 'автонарушение',\n",
       " 'автономно',\n",
       " 'автономный',\n",
       " 'автообзвон',\n",
       " 'автооветчик',\n",
       " 'автоооплата',\n",
       " 'автооответчик',\n",
       " 'автооператор',\n",
       " 'автооплата',\n",
       " 'автооповеститель',\n",
       " 'автооповещение',\n",
       " 'автоотвентчик',\n",
       " 'автоответ',\n",
       " 'автоответчик',\n",
       " 'автоотвечик',\n",
       " 'автоотмена',\n",
       " 'автопалатёж',\n",
       " 'автопассаж',\n",
       " 'автоперевод',\n",
       " 'автоперевозка',\n",
       " 'автоперевыпуск',\n",
       " 'автоперевыпускать',\n",
       " 'автопилот',\n",
       " 'автоплавтёж',\n",
       " 'автоплата',\n",
       " 'автоплатёж',\n",
       " 'автопогашение',\n",
       " 'автоподстановка',\n",
       " 'автополе',\n",
       " 'автополучение',\n",
       " 'автопонижение',\n",
       " 'автопополнение',\n",
       " 'автопрайма',\n",
       " 'автопробег',\n",
       " 'автопроверка',\n",
       " 'автопродикс',\n",
       " 'автопродление',\n",
       " 'автопрозвон',\n",
       " 'автопрокат',\n",
       " 'автопрокатчик',\n",
       " 'автопролангация',\n",
       " 'автопрологнация',\n",
       " 'автопролонгация',\n",
       " 'автопролонгирование',\n",
       " 'автопролонгировать',\n",
       " 'автопролонгироваться',\n",
       " 'автопром',\n",
       " 'автор',\n",
       " 'авторазблокировка',\n",
       " 'авторассрочка',\n",
       " 'авторасчёт',\n",
       " 'автореал',\n",
       " 'авторегистрация',\n",
       " 'авторемонт',\n",
       " 'авториза',\n",
       " 'авторизационный',\n",
       " 'авторизация',\n",
       " 'авторизировал',\n",
       " 'авторизированный',\n",
       " 'авторизировать',\n",
       " 'авторизироваться',\n",
       " 'авторизованный',\n",
       " 'авторизованый',\n",
       " 'авторизовать',\n",
       " 'авторизоваться',\n",
       " 'авторизовывалить',\n",
       " 'авторизовывать',\n",
       " 'авторизовываться',\n",
       " 'авторитет',\n",
       " 'авторитетно',\n",
       " 'авторитетность',\n",
       " 'авторитетный',\n",
       " 'авторский',\n",
       " 'авторство',\n",
       " 'авторусь',\n",
       " 'авторучка',\n",
       " 'авторынок',\n",
       " 'автосалон',\n",
       " 'автосберкасса',\n",
       " 'автосброс',\n",
       " 'автосекретарь',\n",
       " 'автосервис',\n",
       " 'автосигнализация',\n",
       " 'автослесарь',\n",
       " 'автосолоно',\n",
       " 'автосообщение',\n",
       " 'автоспецтранс',\n",
       " 'автоспеццентр',\n",
       " 'автосписание',\n",
       " 'автостанция',\n",
       " 'автостарт',\n",
       " 'автостиль',\n",
       " 'автостоянка',\n",
       " 'автострада',\n",
       " 'автострахование',\n",
       " 'автостраховка',\n",
       " 'автостроитель',\n",
       " 'автответчик',\n",
       " 'автотехцентр',\n",
       " 'автотокредит',\n",
       " 'автоторгбанк',\n",
       " 'автоторгбанка',\n",
       " 'автотранспорт',\n",
       " 'автотранспортный',\n",
       " 'автотраффик',\n",
       " 'автотрейдинг',\n",
       " 'автоуведомление',\n",
       " 'автофан',\n",
       " 'автофирма',\n",
       " 'автофорум',\n",
       " 'автоцентр',\n",
       " 'автошкола',\n",
       " 'автоштраф',\n",
       " 'автоэкспесс',\n",
       " 'автоэкспресс',\n",
       " 'авшалумов',\n",
       " 'ага',\n",
       " 'агальцов',\n",
       " 'агам',\n",
       " 'агап',\n",
       " 'агапов',\n",
       " 'агапцов',\n",
       " 'агат',\n",
       " 'агаф',\n",
       " 'агафонов',\n",
       " 'агащазблин',\n",
       " 'агащасблин',\n",
       " 'аггера',\n",
       " 'аггра',\n",
       " 'агеев',\n",
       " 'аген',\n",
       " 'агенство',\n",
       " 'агенстпо',\n",
       " 'агент',\n",
       " 'агентсв',\n",
       " 'агентский',\n",
       " 'агентство',\n",
       " 'агетнтство',\n",
       " 'агетом',\n",
       " 'агибалов',\n",
       " 'агидель',\n",
       " 'агитатор',\n",
       " 'агитационный',\n",
       " 'агитация',\n",
       " 'агитировать',\n",
       " 'агл',\n",
       " 'аглямович',\n",
       " 'агонизировать',\n",
       " 'агония',\n",
       " 'агрегат',\n",
       " 'агрегатор',\n",
       " 'агрегированный',\n",
       " 'агресивный',\n",
       " 'агрессивно',\n",
       " 'агрессивность',\n",
       " 'агрессивный',\n",
       " 'агрессин',\n",
       " 'агрессия',\n",
       " 'агро',\n",
       " 'агроимпульс',\n",
       " 'агроном',\n",
       " 'агропромкредит',\n",
       " 'агропромкредить',\n",
       " 'агропропкредить',\n",
       " 'агророса',\n",
       " 'агросоюз',\n",
       " 'агроуниверситет',\n",
       " 'агрохимбанк',\n",
       " 'агрумент',\n",
       " 'ад',\n",
       " 'адам',\n",
       " 'адамид',\n",
       " 'адамин',\n",
       " 'адамс',\n",
       " 'адаптация',\n",
       " 'адаптер',\n",
       " 'адаптированый',\n",
       " 'адаптировать',\n",
       " 'адаптироваться',\n",
       " 'адвк',\n",
       " 'адвокат',\n",
       " 'адвокатский',\n",
       " 'адвосервис',\n",
       " 'адд',\n",
       " 'аддон',\n",
       " 'адекват',\n",
       " 'адекватно',\n",
       " 'адекватность',\n",
       " 'адекватный',\n",
       " 'адекс',\n",
       " 'адектный',\n",
       " 'адел',\n",
       " 'адели',\n",
       " 'аделий',\n",
       " 'аделин',\n",
       " 'аделить',\n",
       " 'адель',\n",
       " 'адепт',\n",
       " 'адес',\n",
       " 'аджиев',\n",
       " 'адидас',\n",
       " 'адиина',\n",
       " 'адий',\n",
       " 'адимин',\n",
       " 'адин',\n",
       " 'адиос',\n",
       " 'адиторский',\n",
       " 'адлер',\n",
       " 'адлеровский',\n",
       " 'адлеровца',\n",
       " 'адлерский',\n",
       " 'адм',\n",
       " 'адмбанка',\n",
       " 'адмимный',\n",
       " 'админ',\n",
       " 'админимтратор',\n",
       " 'администартор',\n",
       " 'администатор',\n",
       " 'администация',\n",
       " 'администраор',\n",
       " 'административка',\n",
       " 'административно',\n",
       " 'административный',\n",
       " 'администратор',\n",
       " 'администраторша',\n",
       " 'администрация',\n",
       " 'администрирование',\n",
       " 'администрировать',\n",
       " 'админит',\n",
       " 'админитратор',\n",
       " 'админовый',\n",
       " 'адмирадтейский',\n",
       " 'адмирал',\n",
       " 'адмиралтейский',\n",
       " 'адмиральский',\n",
       " 'адмиро',\n",
       " 'адмнина',\n",
       " 'адмный',\n",
       " 'аднако',\n",
       " 'адов',\n",
       " 'адовость',\n",
       " 'адовый',\n",
       " 'адольфович',\n",
       " 'адостный',\n",
       " 'адр',\n",
       " 'адреналин',\n",
       " 'адреналиновый',\n",
       " 'адреналинчик',\n",
       " 'адрес',\n",
       " 'адресат',\n",
       " 'адресация',\n",
       " 'адресный',\n",
       " 'адресовать',\n",
       " 'адресоваться',\n",
       " 'адресовывать',\n",
       " 'адресок',\n",
       " 'адресочек',\n",
       " 'адресс',\n",
       " 'адрессать',\n",
       " 'адриан',\n",
       " 'адрикс',\n",
       " 'адский',\n",
       " 'адфавит',\n",
       " 'адъ',\n",
       " 'адыгейский',\n",
       " 'адыгея',\n",
       " 'адылбек',\n",
       " 'адын',\n",
       " 'адьеса',\n",
       " 'адьос',\n",
       " 'адья',\n",
       " 'аеро',\n",
       " 'аета',\n",
       " 'аж',\n",
       " 'ажжж',\n",
       " 'ажиатаж',\n",
       " 'ажиотаж',\n",
       " 'ажиотажный',\n",
       " 'ажн',\n",
       " 'ажный',\n",
       " 'ажур',\n",
       " 'аз',\n",
       " 'азалия',\n",
       " 'азам',\n",
       " 'азамат',\n",
       " 'азарт',\n",
       " 'азартно',\n",
       " 'азартный',\n",
       " 'азат',\n",
       " 'азахстан',\n",
       " 'азбука',\n",
       " 'азеоп',\n",
       " 'азер',\n",
       " 'азербаджан',\n",
       " 'азербайджан',\n",
       " 'азиат',\n",
       " 'азиатски',\n",
       " 'азиатский',\n",
       " 'азиатско',\n",
       " 'азиз',\n",
       " 'азизов',\n",
       " 'азимов',\n",
       " 'азин',\n",
       " 'азино',\n",
       " 'азия',\n",
       " 'азк',\n",
       " 'азов',\n",
       " 'азовский',\n",
       " 'азона',\n",
       " 'азот',\n",
       " 'азотный',\n",
       " 'азс',\n",
       " 'аиа',\n",
       " 'аиг',\n",
       " 'аиго',\n",
       " 'аида',\n",
       " 'аижк',\n",
       " 'аижка',\n",
       " 'аикб',\n",
       " 'аирвейс',\n",
       " 'аист',\n",
       " 'аиф',\n",
       " 'аиша',\n",
       " 'ай',\n",
       " 'айболит',\n",
       " 'айвазовский',\n",
       " 'айваик',\n",
       " 'айвить',\n",
       " 'айглоб',\n",
       " 'айгуль',\n",
       " 'айгюнь',\n",
       " 'айда',\n",
       " 'айдар',\n",
       " 'айдахо',\n",
       " 'айдишникнуть',\n",
       " 'айжан',\n",
       " 'айзиля',\n",
       " 'айк',\n",
       " 'айклик',\n",
       " 'айкьюкарда',\n",
       " 'айленд',\n",
       " 'аймани',\n",
       " 'айманибанк',\n",
       " 'айн',\n",
       " 'айнур',\n",
       " 'айпад',\n",
       " 'айпада',\n",
       " 'айпико',\n",
       " 'айпэда',\n",
       " 'айрат',\n",
       " 'айратович',\n",
       " 'айриша',\n",
       " 'айса',\n",
       " 'айсберг',\n",
       " 'айсиайся',\n",
       " 'айскай',\n",
       " 'айта',\n",
       " 'айти',\n",
       " 'айтишник',\n",
       " 'айтишный',\n",
       " 'айтк',\n",
       " 'айфон',\n",
       " 'айфоновский',\n",
       " 'айфончик',\n",
       " 'айхал',\n",
       " 'айчиар',\n",
       " 'айшоп',\n",
       " 'айэлина',\n",
       " 'айя',\n",
       " 'ак',\n",
       " 'ака',\n",
       " 'академ',\n",
       " 'академгородок',\n",
       " 'академик',\n",
       " 'академически',\n",
       " 'академический',\n",
       " 'академия',\n",
       " 'академиякрасота',\n",
       " 'академхимбанк',\n",
       " 'акадо',\n",
       " 'аказия',\n",
       " 'акакиевич',\n",
       " 'акакий',\n",
       " 'аканье',\n",
       " 'акатов',\n",
       " 'акать',\n",
       " 'акаунт',\n",
       " 'акб',\n",
       " 'акбарс',\n",
       " 'аква',\n",
       " 'аквамарин',\n",
       " 'аквамолл',\n",
       " 'аквапарк',\n",
       " 'аквариум',\n",
       " 'аквариумный',\n",
       " 'акватория',\n",
       " 'аквилон',\n",
       " 'аки',\n",
       " 'акибанк',\n",
       " 'акибанка',\n",
       " 'акий',\n",
       " 'акименко',\n",
       " 'акимов',\n",
       " 'акк',\n",
       " 'аккаунт',\n",
       " 'аккаунтинг',\n",
       " 'аккаутнт',\n",
       " 'аккомпанемент',\n",
       " 'аккомпанимент',\n",
       " 'аккорд',\n",
       " 'аккредитация',\n",
       " 'аккредитив',\n",
       " 'аккредитивный',\n",
       " 'аккредитовать',\n",
       " 'аккредитоваться',\n",
       " 'аккуант',\n",
       " 'аккумулирование',\n",
       " 'аккумулировать',\n",
       " 'аккумулироваться',\n",
       " 'аккумулятор',\n",
       " 'аккумуляция',\n",
       " 'аккурат',\n",
       " 'аккуратненький',\n",
       " 'аккуратно',\n",
       " 'аккуратность',\n",
       " 'аккуратный',\n",
       " 'акм',\n",
       " 'аковы',\n",
       " 'акопян',\n",
       " 'акр',\n",
       " 'акрасовый',\n",
       " 'акредитовать',\n",
       " 'акрин',\n",
       " 'акробат',\n",
       " 'акробатика',\n",
       " 'акромить',\n",
       " 'акрополь',\n",
       " 'акс',\n",
       " 'аксай',\n",
       " 'аксайский',\n",
       " 'аксакал',\n",
       " 'аксан',\n",
       " 'аксель',\n",
       " 'аксеново',\n",
       " 'аксессуар',\n",
       " 'аксиома',\n",
       " 'акститься',\n",
       " 'аксютина',\n",
       " 'аксёнов',\n",
       " 'акт',\n",
       " 'актив',\n",
       " 'активатор',\n",
       " 'активация',\n",
       " 'активбизнесколлекшн',\n",
       " 'активбизнесконсалтинг',\n",
       " 'активбк',\n",
       " 'активекс',\n",
       " 'актививровать',\n",
       " 'активизация',\n",
       " 'активизировать',\n",
       " 'активизироваться',\n",
       " 'активирвать',\n",
       " 'активиров',\n",
       " 'активирование',\n",
       " 'активированнный',\n",
       " 'активированный',\n",
       " 'активировать',\n",
       " 'активироваться',\n",
       " 'активист',\n",
       " 'активиция',\n",
       " 'активкапиталбанк',\n",
       " 'активно',\n",
       " 'активность',\n",
       " 'активный',\n",
       " 'активый',\n",
       " 'актировать',\n",
       " 'актовый',\n",
       " 'актокредит',\n",
       " 'актуализация',\n",
       " 'актуализировать',\n",
       " 'актуализироваться',\n",
       " 'актуально',\n",
       " 'актуальность',\n",
       " 'актуальный',\n",
       " 'актульный',\n",
       " 'актёр',\n",
       " 'актёрский',\n",
       " 'акула',\n",
       " 'акулий',\n",
       " 'акустика',\n",
       " 'акутальна',\n",
       " 'акф',\n",
       " 'акцент',\n",
       " 'акцентирование',\n",
       " 'акцентировать',\n",
       " 'акцентироваться',\n",
       " 'акцепт',\n",
       " 'акцептант',\n",
       " 'акцептировать',\n",
       " 'акцептный',\n",
       " 'акцептовать',\n",
       " 'акцептоваться',\n",
       " 'акцепция',\n",
       " 'акционер',\n",
       " 'акционерный',\n",
       " 'акционерский',\n",
       " 'акционный',\n",
       " 'акционой',\n",
       " 'акция',\n",
       " 'акцый',\n",
       " 'акын',\n",
       " 'ала',\n",
       " 'алабян',\n",
       " 'алаверды',\n",
       " 'алан',\n",
       " 'алания',\n",
       " 'аларм',\n",
       " 'аларма',\n",
       " 'алася',\n",
       " 'алатырь',\n",
       " 'алб',\n",
       " 'албанский',\n",
       " 'албгна',\n",
       " 'албый',\n",
       " 'алгебраический',\n",
       " 'алгоритм',\n",
       " 'але',\n",
       " 'алеа',\n",
       " 'алевтин',\n",
       " 'алевтина',\n",
       " 'алегро',\n",
       " 'алеексеевский',\n",
       " 'алеий',\n",
       " 'алей',\n",
       " 'алейхем',\n",
       " 'алек',\n",
       " 'алекать',\n",
       " 'алекеевский',\n",
       " 'алекперов',\n",
       " 'алекс',\n",
       " 'алексадр',\n",
       " 'александ',\n",
       " 'александер',\n",
       " 'александр',\n",
       " 'александра',\n",
       " 'александразеро',\n",
       " 'александров',\n",
       " 'александрович',\n",
       " 'александровна',\n",
       " 'александровск',\n",
       " 'александровский',\n",
       " 'алексанр',\n",
       " 'алексанян',\n",
       " 'алексашкин',\n",
       " 'алексевский',\n",
       " 'алексеев',\n",
       " 'алексеевич',\n",
       " 'алексеевка',\n",
       " 'алексеевкса',\n",
       " 'алексеево',\n",
       " 'алексеевсвка',\n",
       " 'алексеевский',\n",
       " 'алексеевсой',\n",
       " 'алексеенко',\n",
       " 'алексей',\n",
       " 'алексин',\n",
       " 'алексомспб',\n",
       " 'алексперов',\n",
       " 'алекссс',\n",
       " 'алемара',\n",
       " 'ален',\n",
       " 'аленарябцев',\n",
       " 'алентовый',\n",
       " 'аленький',\n",
       " 'алерот',\n",
       " 'алерт',\n",
       " 'алертинг',\n",
       " 'алертнига',\n",
       " 'алеса',\n",
       " 'алесеевский',\n",
       " 'алесей',\n",
       " 'алескапут',\n",
       " 'алескеров',\n",
       " 'алесь',\n",
       " 'алеутский',\n",
       " 'алеф',\n",
       " 'алефтин',\n",
       " 'алехин',\n",
       " 'алеш',\n",
       " 'алещенок',\n",
       " 'алзд',\n",
       " 'али',\n",
       " 'алиас',\n",
       " 'алиасу',\n",
       " 'алибаба',\n",
       " 'алиби',\n",
       " 'алие',\n",
       " 'алиев',\n",
       " 'алиекспресс',\n",
       " 'алии',\n",
       " 'алий',\n",
       " 'алико',\n",
       " 'аликович',\n",
       " 'аликпер',\n",
       " 'алилловать',\n",
       " 'алиллуй',\n",
       " 'алиллуйя',\n",
       " 'алиловать',\n",
       " 'алилуй',\n",
       " 'алилуйя',\n",
       " 'алим',\n",
       " 'алиментный',\n",
       " 'алименты',\n",
       " 'алимов',\n",
       " 'алин',\n",
       " 'алина',\n",
       " 'алиса',\n",
       " 'алишер',\n",
       " 'алиэкспресс',\n",
       " 'алия',\n",
       " 'алкатреш',\n",
       " 'алкать',\n",
       " 'алкаш',\n",
       " 'алкашка',\n",
       " 'алкоголик',\n",
       " 'алкоголь',\n",
       " 'алкогольный',\n",
       " 'алл',\n",
       " 'алла',\n",
       " 'алладин',\n",
       " 'аллах',\n",
       " 'аллегория',\n",
       " 'аллергик',\n",
       " 'аллергический',\n",
       " 'аллергия',\n",
       " 'аллертинг',\n",
       " 'аллеса',\n",
       " 'аллея',\n",
       " 'аллиас',\n",
       " 'аллигатор',\n",
       " 'аллиловать',\n",
       " 'аллилуйя',\n",
       " 'алллла',\n",
       " 'алло',\n",
       " 'аллочки',\n",
       " 'аллюр',\n",
       " 'алма',\n",
       " 'алмаз',\n",
       " 'алмазный',\n",
       " 'алмакаев',\n",
       " 'алматы',\n",
       " 'ална',\n",
       " 'ало',\n",
       " 'алогичный',\n",
       " 'алпить',\n",
       " 'алсу',\n",
       " 'алта',\n",
       " 'алтаева',\n",
       " 'алтай',\n",
       " 'алтайрегионипотека',\n",
       " 'алтайск',\n",
       " 'алтайский',\n",
       " 'алтайэнерго',\n",
       " 'алтайэнергобанк',\n",
       " 'алтарь',\n",
       " 'алтуфьевка',\n",
       " 'алтуфьево',\n",
       " 'алтуфьевский',\n",
       " 'алтуфьеский',\n",
       " 'алтушка',\n",
       " 'алутис',\n",
       " 'алуфьево',\n",
       " 'алушта',\n",
       " 'алф',\n",
       " 'алфабанка',\n",
       " 'алфавит',\n",
       " 'алфавитный',\n",
       " 'алфаклик',\n",
       " 'алфастрахование',\n",
       " 'алферьев',\n",
       " 'алфь',\n",
       " 'алфёров',\n",
       " 'алчность',\n",
       " 'алчный',\n",
       " ...]"
      ]
     },
     "execution_count": 54,
     "metadata": {},
     "output_type": "execute_result"
    }
   ],
   "source": [
    "vectorizer = TfidfVectorizer()\n",
    "X = vectorizer.fit_transform(full_corpus_1)\n",
    "vectorizer.get_feature_names()"
   ]
  },
  {
   "cell_type": "code",
   "execution_count": 34,
   "metadata": {},
   "outputs": [
    {
     "name": "stdout",
     "output_type": "stream",
     "text": [
      "<class 'pandas.core.frame.DataFrame'>\n",
      "Int64Index: 14713 entries, 98 to 153498\n",
      "Data columns (total 10 columns):\n",
      " #   Column              Non-Null Count  Dtype  \n",
      "---  ------              --------------  -----  \n",
      " 0   city                10511 non-null  object \n",
      " 1   rating_not_checked  14713 non-null  bool   \n",
      " 2   title               14713 non-null  object \n",
      " 3   num_comments        14713 non-null  int64  \n",
      " 4   bank_license        14713 non-null  object \n",
      " 5   author              14710 non-null  object \n",
      " 6   bank_name           14713 non-null  object \n",
      " 7   datetime            14713 non-null  object \n",
      " 8   text                14713 non-null  object \n",
      " 9   rating_grade        14713 non-null  float64\n",
      "dtypes: bool(1), float64(1), int64(1), object(7)\n",
      "memory usage: 1.1+ MB\n"
     ]
    }
   ],
   "source": [
    "data_5 = data[data['rating_grade'] == 5]\n",
    "data_5.info()"
   ]
  },
  {
   "cell_type": "code",
   "execution_count": 35,
   "metadata": {},
   "outputs": [
    {
     "name": "stderr",
     "output_type": "stream",
     "text": [
      "C:\\ProgramData\\Anaconda3\\lib\\site-packages\\pandas\\core\\generic.py:5303: SettingWithCopyWarning: \n",
      "A value is trying to be set on a copy of a slice from a DataFrame.\n",
      "Try using .loc[row_indexer,col_indexer] = value instead\n",
      "\n",
      "See the caveats in the documentation: https://pandas.pydata.org/pandas-docs/stable/user_guide/indexing.html#returning-a-view-versus-a-copy\n",
      "  self[name] = value\n"
     ]
    }
   ],
   "source": [
    "data_5.text = data_5.text.apply(preprocess)\n",
    "text_5 = data_5['text'].tolist()"
   ]
  },
  {
   "cell_type": "code",
   "execution_count": 57,
   "metadata": {},
   "outputs": [],
   "source": [
    "full_corpus_5 = []\n",
    "\n",
    "for i in range (0, len(text_5)):\n",
    "    corpus = word_tokenize(text_5[i])\n",
    "    full_corpus_5 += corpus"
   ]
  },
  {
   "cell_type": "code",
   "execution_count": null,
   "metadata": {},
   "outputs": [],
   "source": [
    "vectorizer = TfidfVectorizer()\n",
    "X = vectorizer.fit_transform(full_corpus_5)\n"
   ]
  },
  {
   "cell_type": "code",
   "execution_count": null,
   "metadata": {},
   "outputs": [],
   "source": []
  },
  {
   "cell_type": "code",
   "execution_count": null,
   "metadata": {},
   "outputs": [],
   "source": []
  },
  {
   "cell_type": "markdown",
   "metadata": {},
   "source": [
    "### Часть 2. Тематическое моделирование"
   ]
  },
  {
   "cell_type": "code",
   "execution_count": 59,
   "metadata": {},
   "outputs": [],
   "source": [
    "from gensim.corpora import Dictionary\n",
    "from gensim.models import TfidfModel\n",
    "from gensim import similarities\n",
    "from gensim.models import lsimodel"
   ]
  },
  {
   "cell_type": "code",
   "execution_count": 75,
   "metadata": {},
   "outputs": [],
   "source": [
    "#преобразуем отзывы в необходимый для gensim формат\n",
    "texts = [text.split() for text in data.text]\n",
    "dictionary = Dictionary(texts)\n",
    "corpus = [dictionary.doc2bow(text) for text in texts]"
   ]
  },
  {
   "cell_type": "code",
   "execution_count": 76,
   "metadata": {},
   "outputs": [],
   "source": [
    "tfidf = TfidfModel(corpus)\n",
    "corpus_tfidf = tfidf[corpus]"
   ]
  },
  {
   "cell_type": "code",
   "execution_count": 77,
   "metadata": {},
   "outputs": [],
   "source": [
    "#строим модель на 20 тем\n",
    "lsi = lsimodel.LsiModel(corpus=corpus_tfidf, id2word=dictionary, num_topics=20)"
   ]
  },
  {
   "cell_type": "code",
   "execution_count": 78,
   "metadata": {},
   "outputs": [
    {
     "data": {
      "text/plain": [
       "[(0,\n",
       "  '0.199*\"карта\" + 0.137*\"кредит\" + 0.118*\"деньга\" + 0.112*\"заявление\" + 0.109*\"счёт\" + 0.104*\"банкомат\" + 0.103*\"вклад\" + 0.103*\"отделение\" + 0.099*\"сбербанк\" + 0.098*\"сумма\"'),\n",
       " (1,\n",
       "  '-0.370*\"вклад\" + 0.363*\"кредит\" + -0.219*\"банкомат\" + -0.177*\"карта\" + 0.169*\"страховка\" + 0.146*\"платёж\" + 0.146*\"задолженность\" + 0.141*\"погашение\" + -0.124*\"деньга\" + 0.117*\"звонок\"'),\n",
       " (2,\n",
       "  '-0.518*\"вклад\" + 0.270*\"банкомат\" + 0.211*\"карта\" + 0.181*\"сбербанк\" + 0.131*\"заявление\" + -0.122*\"кредит\" + -0.120*\"договор\" + 0.118*\"операция\" + -0.117*\"очередь\" + 0.114*\"средство\"'),\n",
       " (3,\n",
       "  '-0.257*\"вклад\" + -0.220*\"сумма\" + 0.195*\"номер\" + -0.189*\"руб\" + 0.178*\"заявка\" + -0.160*\"погашение\" + -0.158*\"платёж\" + -0.151*\"договор\" + 0.150*\"звонок\" + -0.145*\"рубль\"'),\n",
       " (4,\n",
       "  '0.304*\"вклад\" + -0.297*\"карта\" + 0.270*\"номер\" + -0.211*\"страховка\" + 0.194*\"звонок\" + -0.189*\"заявка\" + -0.142*\"лимит\" + 0.139*\"ваш\" + 0.139*\"телефон\" + -0.138*\"кредитный\"')]"
      ]
     },
     "execution_count": 78,
     "metadata": {},
     "output_type": "execute_result"
    }
   ],
   "source": [
    "lsi.show_topics(5)"
   ]
  },
  {
   "cell_type": "code",
   "execution_count": 79,
   "metadata": {},
   "outputs": [
    {
     "data": {
      "text/plain": [
       "[(0,\n",
       "  '0.199*\"карта\" + 0.136*\"кредит\" + 0.118*\"деньга\" + 0.112*\"заявление\" + 0.110*\"счёт\" + 0.103*\"банкомат\" + 0.103*\"вклад\" + 0.103*\"отделение\" + 0.099*\"сбербанк\" + 0.099*\"сумма\"'),\n",
       " (1,\n",
       "  '-0.416*\"вклад\" + 0.356*\"кредит\" + -0.191*\"банкомат\" + 0.163*\"страховка\" + -0.156*\"карта\" + 0.154*\"платёж\" + 0.149*\"задолженность\" + 0.141*\"погашение\" + 0.111*\"погасить\" + -0.110*\"деньга\"'),\n",
       " (2,\n",
       "  '-0.488*\"вклад\" + 0.270*\"банкомат\" + 0.225*\"карта\" + 0.203*\"сбербанк\" + -0.156*\"кредит\" + -0.131*\"договор\" + 0.128*\"заявление\" + 0.127*\"операция\" + 0.117*\"средство\" + 0.117*\"деньга\"'),\n",
       " (3,\n",
       "  '-0.265*\"вклад\" + -0.215*\"сумма\" + 0.204*\"заявка\" + 0.191*\"номер\" + -0.183*\"руб\" + -0.159*\"платёж\" + -0.154*\"погашение\" + -0.153*\"договор\" + 0.145*\"звонок\" + -0.145*\"рубль\"'),\n",
       " (4,\n",
       "  '-0.450*\"карта\" + 0.305*\"банкомат\" + -0.197*\"лимит\" + -0.187*\"кредитный\" + 0.160*\"номер\" + 0.128*\"терминал\" + 0.127*\"деньга\" + 0.123*\"купюра\" + 0.121*\"звонок\" + -0.116*\"комиссия\"')]"
      ]
     },
     "execution_count": 79,
     "metadata": {},
     "output_type": "execute_result"
    }
   ],
   "source": [
    "#для сравнения уменьшим в два раза количество тем\n",
    "lsi_1 = lsimodel.LsiModel(corpus=corpus_tfidf, id2word=dictionary, num_topics=10)\n",
    "lsi_1.show_topics(5)"
   ]
  },
  {
   "cell_type": "code",
   "execution_count": 94,
   "metadata": {},
   "outputs": [
    {
     "data": {
      "text/plain": [
       "[(0,\n",
       "  '0.199*\"карта\" + 0.136*\"кредит\" + 0.118*\"деньга\" + 0.112*\"заявление\" + 0.110*\"счёт\" + 0.103*\"банкомат\" + 0.103*\"вклад\" + 0.103*\"отделение\" + 0.099*\"сбербанк\" + 0.099*\"сумма\"'),\n",
       " (2,\n",
       "  '-0.488*\"вклад\" + 0.270*\"банкомат\" + 0.225*\"карта\" + 0.203*\"сбербанк\" + -0.156*\"кредит\" + -0.131*\"договор\" + 0.128*\"заявление\" + 0.127*\"операция\" + 0.117*\"средство\" + 0.117*\"деньга\"'),\n",
       " (6,\n",
       "  '0.274*\"сбербанк\" + 0.201*\"заявление\" + 0.185*\"заявка\" + 0.181*\"страховка\" + -0.181*\"платёж\" + 0.165*\"страхование\" + 0.159*\"документ\" + 0.151*\"денежный\" + -0.136*\"задолженность\" + 0.134*\"рассмотрение\"'),\n",
       " (9,\n",
       "  '-0.469*\"кошелёк\" + -0.343*\"киви\" + -0.229*\"вклад\" + 0.202*\"сбербанк\" + -0.150*\"страховка\" + -0.147*\"идентификация\" + -0.131*\"поддержка\" + -0.129*\"заблокировать\" + -0.121*\"терминал\" + -0.116*\"заявка\"')]"
      ]
     },
     "execution_count": 94,
     "metadata": {},
     "output_type": "execute_result"
    }
   ],
   "source": [
    "#выберем только те темы, в которых встречается \"сбербанк\"\n",
    "topics = lsi_1.show_topics(10)\n",
    "sber_topics = [topic for topic in topics if \"сбербанк\" in topic[1]]\n",
    "\n",
    "sber_topics"
   ]
  },
  {
   "cell_type": "code",
   "execution_count": 98,
   "metadata": {},
   "outputs": [
    {
     "data": {
      "text/plain": [
       "[(8,\n",
       "  '0.278*\"банкомат\" + 0.221*\"страховка\" + -0.210*\"сбербанк\" + -0.182*\"платёж\" + 0.176*\"альфа\" + 0.170*\"страхование\" + 0.146*\"комиссия\" + 0.142*\"услуга\" + -0.126*\"погашение\" + -0.125*\"заявление\"'),\n",
       " (13,\n",
       "  '-0.300*\"кошелёк\" + -0.219*\"киви\" + 0.210*\"смс\" + 0.195*\"погашение\" + 0.195*\"услуга\" + 0.176*\"досрочный\" + 0.165*\"альфа\" + -0.147*\"сбербанк\" + 0.146*\"претензия\" + -0.136*\"деньга\"'),\n",
       " (14,\n",
       "  '0.344*\"руб\" + 0.331*\"терминал\" + 0.251*\"комиссия\" + 0.188*\"заявка\" + -0.185*\"кошелёк\" + -0.155*\"альфа\" + -0.140*\"банкомат\" + -0.120*\"заблокировать\" + 0.120*\"касса\" + 0.119*\"очередь\"'),\n",
       " (19,\n",
       "  '0.371*\"альфа\" + 0.247*\"терминал\" + -0.225*\"персональный\" + -0.221*\"платёж\" + -0.186*\"обработка\" + 0.163*\"справка\" + -0.162*\"банкомат\" + -0.160*\"данные\" + -0.143*\"согласие\" + 0.138*\"номер\"')]"
      ]
     },
     "execution_count": 98,
     "metadata": {},
     "output_type": "execute_result"
    }
   ],
   "source": [
    "#выберем только те темы, в которых встречается \"альфа-банк\"\n",
    "topics = lsi.show_topics(20)\n",
    "alfa_topics = [topic for topic in topics if \"альфа\" in topic[1]]\n",
    "\n",
    "alfa_topics"
   ]
  },
  {
   "cell_type": "markdown",
   "metadata": {
    "id": "AJ39G_RaqauR"
   },
   "source": [
    "### Часть 3. Классификация текстов"
   ]
  },
  {
   "cell_type": "code",
   "execution_count": 72,
   "metadata": {
    "id": "bUSukDrwqauS",
    "outputId": "d50fc19f-0306-4d6b-f14d-101196431d81"
   },
   "outputs": [],
   "source": [
    "from sklearn.pipeline import Pipeline\n",
    "from sklearn.ensemble import RandomForestClassifier\n",
    "from sklearn.feature_extraction.text import CountVectorizer\n",
    "from sklearn.feature_extraction.text import TfidfTransformer\n",
    "from sklearn.decomposition import TruncatedSVD\n",
    "from sklearn.decomposition import LatentDirichletAllocation\n",
    "from sklearn.metrics import classification_report\n",
    "from sklearn.metrics import f1_score\n",
    "from sklearn.metrics import accuracy_score"
   ]
  },
  {
   "cell_type": "code",
   "execution_count": 38,
   "metadata": {},
   "outputs": [
    {
     "name": "stdout",
     "output_type": "stream",
     "text": [
      "<class 'pandas.core.frame.DataFrame'>\n",
      "Int64Index: 270 entries, 98 to 924\n",
      "Data columns (total 10 columns):\n",
      " #   Column              Non-Null Count  Dtype  \n",
      "---  ------              --------------  -----  \n",
      " 0   city                270 non-null    object \n",
      " 1   rating_not_checked  270 non-null    bool   \n",
      " 2   title               270 non-null    object \n",
      " 3   num_comments        270 non-null    int64  \n",
      " 4   bank_license        270 non-null    object \n",
      " 5   author              270 non-null    object \n",
      " 6   bank_name           270 non-null    object \n",
      " 7   datetime            270 non-null    object \n",
      " 8   text                270 non-null    object \n",
      " 9   rating_grade        270 non-null    float64\n",
      "dtypes: bool(1), float64(1), int64(1), object(7)\n",
      "memory usage: 21.4+ KB\n"
     ]
    }
   ],
   "source": [
    "#созададим датафрейм для классификации - возьмем 100отзывов с рейтингом \"5\" и 170 отзывов с рейтингом \"1\"\n",
    "\n",
    "data_clf = pd.concat([data_5[:100], data_1[:170]])\n",
    "data_clf.info()"
   ]
  },
  {
   "cell_type": "code",
   "execution_count": 39,
   "metadata": {},
   "outputs": [],
   "source": [
    "#разделим выборку\n",
    "from sklearn.model_selection import train_test_split\n",
    "X = data_clf.text\n",
    "y = data_clf[\"rating_grade\"]\n",
    "X_train, X_test, y_train, y_test = train_test_split(X, y, test_size=0.33, random_state=42)"
   ]
  },
  {
   "cell_type": "code",
   "execution_count": 40,
   "metadata": {},
   "outputs": [],
   "source": [
    "#получим baseline на униграммах\n",
    "clf_uni = Pipeline([\n",
    "     ('vect', CountVectorizer(analyzer = 'word', ngram_range=(1,1))),\n",
    "     ('clf', RandomForestClassifier())\n",
    " ])"
   ]
  },
  {
   "cell_type": "code",
   "execution_count": 86,
   "metadata": {},
   "outputs": [
    {
     "name": "stdout",
     "output_type": "stream",
     "text": [
      " f1_score = 0.8750000000000001\n",
      " accuracy_score = 0.8222222222222222\n"
     ]
    }
   ],
   "source": [
    "clf_uni.fit(X_train, y_train)\n",
    "y_pred_uni= clf_uni.predict(X_test)\n",
    "print(f\" f1_score = {f1_score(y_test, y_pred_uni)}\")\n",
    "print(f\" accuracy_score = {accuracy_score(y_test, y_pred_uni)}\")"
   ]
  },
  {
   "cell_type": "code",
   "execution_count": 45,
   "metadata": {},
   "outputs": [],
   "source": [
    "#получим baseline на биграммах\n",
    "clf_bi = Pipeline([\n",
    "     ('vect', CountVectorizer(analyzer = 'word', ngram_range=(2,2))),\n",
    "     ('clf', RandomForestClassifier()),\n",
    " ])"
   ]
  },
  {
   "cell_type": "code",
   "execution_count": 85,
   "metadata": {},
   "outputs": [
    {
     "name": "stdout",
     "output_type": "stream",
     "text": [
      " f1_score = 0.7671232876712328\n",
      " accuracy_score = 0.6222222222222222\n"
     ]
    }
   ],
   "source": [
    "clf_bi.fit(X_train, y_train)\n",
    "y_pred_bi= clf_bi.predict(X_test)\n",
    "print(f\" f1_score = {f1_score(y_test, y_pred_bi)}\")\n",
    "print(f\" accuracy_score = {accuracy_score(y_test, y_pred_bi)}\")"
   ]
  },
  {
   "cell_type": "code",
   "execution_count": 51,
   "metadata": {},
   "outputs": [],
   "source": [
    "#получим baseline на триграммах\n",
    "clf_tri = Pipeline([\n",
    "     ('vect', CountVectorizer(analyzer = 'word', ngram_range=(3,3))),\n",
    "     ('clf', RandomForestClassifier()),\n",
    " ])"
   ]
  },
  {
   "cell_type": "code",
   "execution_count": 83,
   "metadata": {},
   "outputs": [
    {
     "name": "stdout",
     "output_type": "stream",
     "text": [
      " f1_score = 0.7671232876712328\n",
      " accuracy_score = 0.6222222222222222\n"
     ]
    }
   ],
   "source": [
    "clf_tri.fit(X_train, y_train)\n",
    "y_pred_tri= clf_tri.predict(X_test)\n",
    "print(f\" f1_score = {f1_score(y_test, y_pred_tri)}\")\n",
    "print(f\" accuracy_score = {accuracy_score(y_test, y_pred_tri)}\")"
   ]
  },
  {
   "cell_type": "code",
   "execution_count": 63,
   "metadata": {},
   "outputs": [],
   "source": [
    "#получим baseline на символьных униграммах\n",
    "clf_char = Pipeline([\n",
    "     ('vect', CountVectorizer(analyzer = 'char', ngram_range=(1,1))),\n",
    "     ('clf', RandomForestClassifier())\n",
    " ])"
   ]
  },
  {
   "cell_type": "code",
   "execution_count": 82,
   "metadata": {},
   "outputs": [
    {
     "name": "stdout",
     "output_type": "stream",
     "text": [
      " f1_score = 0.8205128205128205\n",
      " accuracy_score = 0.7666666666666667\n"
     ]
    }
   ],
   "source": [
    "clf_char.fit(X_train, y_train)\n",
    "y_pred_char= clf_char.predict(X_test)\n",
    "print(f\" f1_score = {f1_score(y_test, y_pred_char)}\")\n",
    "print(f\" accuracy_score = {accuracy_score(y_test, y_pred_char)}\")"
   ]
  },
  {
   "cell_type": "code",
   "execution_count": 66,
   "metadata": {},
   "outputs": [],
   "source": [
    "clf_svd = Pipeline([ \n",
    "    ('vect', CountVectorizer(analyzer = 'word', ngram_range=(1,1))), \n",
    "    ('tfidf', TfidfTransformer()), \n",
    "    ('tm', TruncatedSVD(n_components=5, \n",
    "                        random_state=42)), \n",
    "    ('clf', RandomForestClassifier())\n",
    "])\n"
   ]
  },
  {
   "cell_type": "code",
   "execution_count": 76,
   "metadata": {},
   "outputs": [
    {
     "name": "stdout",
     "output_type": "stream",
     "text": [
      " f1_score = 0.8166666666666667\n",
      " accuracy_score = 0.7555555555555555\n"
     ]
    }
   ],
   "source": [
    "clf_svd.fit(X_train, y_train)\n",
    "y_pred_svd = clf_svd.predict(X_test)\n",
    "print(f\" f1_score = {f1_score(y_test, y_pred_svd)}\")\n",
    "print(f\" accuracy_score = {accuracy_score(y_test, y_pred_svd)}\")"
   ]
  },
  {
   "cell_type": "code",
   "execution_count": 79,
   "metadata": {},
   "outputs": [],
   "source": [
    "clf_lda = Pipeline([ \n",
    "    ('vect', CountVectorizer(analyzer = 'word', ngram_range=(1,1))), \n",
    "    ('tfidf', TfidfTransformer()), \n",
    "    ('lda', LatentDirichletAllocation(n_components=2, random_state=0))\n",
    "])\n"
   ]
  },
  {
   "cell_type": "code",
   "execution_count": 88,
   "metadata": {},
   "outputs": [
    {
     "data": {
      "text/plain": [
       "array([[0.93709428, 0.06290572],\n",
       "       [0.90920776, 0.09079224],\n",
       "       [0.90215024, 0.09784976],\n",
       "       [0.89829088, 0.10170912],\n",
       "       [0.92793848, 0.07206152],\n",
       "       [0.95170535, 0.04829465],\n",
       "       [0.93909023, 0.06090977],\n",
       "       [0.93395305, 0.06604695],\n",
       "       [0.93595095, 0.06404905],\n",
       "       [0.92158013, 0.07841987],\n",
       "       [0.91875956, 0.08124044],\n",
       "       [0.9458947 , 0.0541053 ],\n",
       "       [0.90956158, 0.09043842],\n",
       "       [0.93706053, 0.06293947],\n",
       "       [0.9275489 , 0.0724511 ],\n",
       "       [0.93672174, 0.06327826],\n",
       "       [0.92957264, 0.07042736],\n",
       "       [0.92790895, 0.07209105],\n",
       "       [0.92956597, 0.07043403],\n",
       "       [0.90701972, 0.09298028],\n",
       "       [0.92835518, 0.07164482],\n",
       "       [0.92601188, 0.07398812],\n",
       "       [0.9273428 , 0.0726572 ],\n",
       "       [0.92209079, 0.07790921],\n",
       "       [0.92394703, 0.07605297],\n",
       "       [0.93378353, 0.06621647],\n",
       "       [0.9446256 , 0.0553744 ],\n",
       "       [0.93837428, 0.06162572],\n",
       "       [0.94249405, 0.05750595],\n",
       "       [0.93603064, 0.06396936],\n",
       "       [0.92523977, 0.07476023],\n",
       "       [0.88252176, 0.11747824],\n",
       "       [0.94748177, 0.05251823],\n",
       "       [0.91614622, 0.08385378],\n",
       "       [0.92282775, 0.07717225],\n",
       "       [0.93860836, 0.06139164],\n",
       "       [0.90405196, 0.09594804],\n",
       "       [0.93979981, 0.06020019],\n",
       "       [0.92278144, 0.07721856],\n",
       "       [0.92154481, 0.07845519],\n",
       "       [0.91687926, 0.08312074],\n",
       "       [0.91553018, 0.08446982],\n",
       "       [0.88429048, 0.11570952],\n",
       "       [0.92943391, 0.07056609],\n",
       "       [0.91455541, 0.08544459],\n",
       "       [0.93537924, 0.06462076],\n",
       "       [0.92518521, 0.07481479],\n",
       "       [0.91249573, 0.08750427],\n",
       "       [0.9229474 , 0.0770526 ],\n",
       "       [0.93571924, 0.06428076],\n",
       "       [0.94629866, 0.05370134],\n",
       "       [0.93809138, 0.06190862],\n",
       "       [0.93659368, 0.06340632],\n",
       "       [0.94540899, 0.05459101],\n",
       "       [0.93546295, 0.06453705],\n",
       "       [0.92431417, 0.07568583],\n",
       "       [0.920352  , 0.079648  ],\n",
       "       [0.88065748, 0.11934252],\n",
       "       [0.94327438, 0.05672562],\n",
       "       [0.95570307, 0.04429693],\n",
       "       [0.93218309, 0.06781691],\n",
       "       [0.93716887, 0.06283113],\n",
       "       [0.9417672 , 0.0582328 ],\n",
       "       [0.92366469, 0.07633531],\n",
       "       [0.92046717, 0.07953283],\n",
       "       [0.95492945, 0.04507055],\n",
       "       [0.9272103 , 0.0727897 ],\n",
       "       [0.91140507, 0.08859493],\n",
       "       [0.90501208, 0.09498792],\n",
       "       [0.92130313, 0.07869687],\n",
       "       [0.92235483, 0.07764517],\n",
       "       [0.93950419, 0.06049581],\n",
       "       [0.94732364, 0.05267636],\n",
       "       [0.9272847 , 0.0727153 ],\n",
       "       [0.89264144, 0.10735856],\n",
       "       [0.94275583, 0.05724417],\n",
       "       [0.94004662, 0.05995338],\n",
       "       [0.9325513 , 0.0674487 ],\n",
       "       [0.94496575, 0.05503425],\n",
       "       [0.92435551, 0.07564449],\n",
       "       [0.93353771, 0.06646229],\n",
       "       [0.9294296 , 0.0705704 ],\n",
       "       [0.94379458, 0.05620542],\n",
       "       [0.93362716, 0.06637284],\n",
       "       [0.94289193, 0.05710807],\n",
       "       [0.87645317, 0.12354683],\n",
       "       [0.90245394, 0.09754606],\n",
       "       [0.91802155, 0.08197845],\n",
       "       [0.90080208, 0.09919792],\n",
       "       [0.95156807, 0.04843193]])"
      ]
     },
     "execution_count": 88,
     "metadata": {},
     "output_type": "execute_result"
    }
   ],
   "source": [
    "clf_lda.fit(X_train, y_train)\n",
    "y_pred_lda = clf_lda.transform(X_test)\n",
    "y_pred_lda"
   ]
  },
  {
   "cell_type": "code",
   "execution_count": null,
   "metadata": {},
   "outputs": [],
   "source": []
  }
 ],
 "metadata": {
  "colab": {
   "collapsed_sections": [],
   "name": "HW1_banki_TM-and-classification.ipynb",
   "provenance": []
  },
  "kernelspec": {
   "display_name": "Python 3",
   "language": "python",
   "name": "python3"
  },
  "language_info": {
   "codemirror_mode": {
    "name": "ipython",
    "version": 3
   },
   "file_extension": ".py",
   "mimetype": "text/x-python",
   "name": "python",
   "nbconvert_exporter": "python",
   "pygments_lexer": "ipython3",
   "version": "3.8.3"
  }
 },
 "nbformat": 4,
 "nbformat_minor": 1
}
